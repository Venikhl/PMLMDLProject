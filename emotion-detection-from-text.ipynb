{
 "cells": [
  {
   "cell_type": "markdown",
   "id": "84ef9cbe",
   "metadata": {},
   "source": [
    "# <font color=\"yellow\">Training and Preprocessing</font>\n"
   ]
  },
  {
   "cell_type": "markdown",
   "id": "0108b389",
   "metadata": {},
   "source": [
    "# Library Imports and Environment Setup\n",
    "\n",
    "### This section imports essential libraries, including tools for data processing, natural language processing, machine learning, and neural networks. It sets up foundational elements like TensorFlow/Keras, NLTK (for text preprocessing), and Scikit-Learn. For reproducibility, a random seed is defined."
   ]
  },
  {
   "cell_type": "code",
   "execution_count": 1,
   "id": "ee04bf2c",
   "metadata": {
    "_cell_guid": "b1076dfc-b9ad-4769-8c92-a6c4dae69d19",
    "_kg_hide-output": true,
    "_uuid": "8f2839f25d086af736a60e9eeb907d3b93b6e0e5",
    "execution": {
     "iopub.execute_input": "2024-03-01T10:52:13.126399Z",
     "iopub.status.busy": "2024-03-01T10:52:13.126040Z",
     "iopub.status.idle": "2024-03-01T10:52:28.449552Z",
     "shell.execute_reply": "2024-03-01T10:52:28.448588Z"
    },
    "papermill": {
     "duration": 15.332482,
     "end_time": "2024-03-01T10:52:28.451661",
     "exception": false,
     "start_time": "2024-03-01T10:52:13.119179",
     "status": "completed"
    },
    "tags": []
   },
   "outputs": [
    {
     "name": "stderr",
     "output_type": "stream",
     "text": [
      "[nltk_data] Downloading package wordnet to\n",
      "[nltk_data]     C:\\Users\\Administrator\\AppData\\Roaming\\nltk_data...\n",
      "[nltk_data]   Package wordnet is already up-to-date!\n",
      "[nltk_data] Downloading package stopwords to\n",
      "[nltk_data]     C:\\Users\\Administrator\\AppData\\Roaming\\nltk_data...\n",
      "[nltk_data]   Package stopwords is already up-to-date!\n"
     ]
    }
   ],
   "source": [
    "# Standard Libraries\n",
    "import os\n",
    "import sys\n",
    "import re\n",
    "import random\n",
    "\n",
    "# Numerical and Data Processing Libraries\n",
    "import numpy as np\n",
    "import pandas as pd\n",
    "\n",
    "# Plotting Libraries\n",
    "import matplotlib.pyplot as plt\n",
    "\n",
    "# TensorFlow and Keras Libraries for Deep Learning\n",
    "import tensorflow as tf\n",
    "from tensorflow import keras\n",
    "from keras import layers, models\n",
    "\n",
    "# Sklearn Libraries for Data Processing and Evaluation\n",
    "from sklearn.feature_extraction.text import CountVectorizer\n",
    "from sklearn.model_selection import train_test_split\n",
    "from sklearn.utils.class_weight import compute_class_weight\n",
    "from sklearn.metrics import classification_report, ConfusionMatrixDisplay\n",
    "\n",
    "# NLTK Libraries for Natural Language Processing\n",
    "import nltk\n",
    "# Download WordNet corpus\n",
    "nltk.download('wordnet')\n",
    "# Download the NLTK stopwords (if not already downloaded)\n",
    "nltk.download('stopwords')\n",
    "from nltk.corpus import stopwords\n",
    "from nltk.stem import WordNetLemmatizer\n",
    "\n",
    "# Set Random Seed for Reproducibility\n",
    "SEED = 42\n",
    "keras.utils.set_random_seed(SEED)\n"
   ]
  },
  {
   "cell_type": "markdown",
   "id": "722a49cd",
   "metadata": {
    "papermill": {
     "duration": 0.005331,
     "end_time": "2024-03-01T10:52:28.462952",
     "exception": false,
     "start_time": "2024-03-01T10:52:28.457621",
     "status": "completed"
    },
    "tags": []
   },
   "source": [
    "# Data Loading and Preprocessing\n",
    "\n",
    "### This section loads a dataset of tweets, filters for relevant emotions (like \"sadness\" and \"happiness\"), and renames columns for clarity. Unused categories are removed, label names are retrieved, and the data is split into training and testing sets. This setup prepares the data for further analysis and modeling."
   ]
  },
  {
   "cell_type": "code",
   "execution_count": 2,
   "id": "04109dd0",
   "metadata": {
    "execution": {
     "iopub.execute_input": "2024-03-01T10:52:28.475612Z",
     "iopub.status.busy": "2024-03-01T10:52:28.474713Z",
     "iopub.status.idle": "2024-03-01T10:52:28.609028Z",
     "shell.execute_reply": "2024-03-01T10:52:28.607856Z"
    },
    "papermill": {
     "duration": 0.142834,
     "end_time": "2024-03-01T10:52:28.611167",
     "exception": false,
     "start_time": "2024-03-01T10:52:28.468333",
     "status": "completed"
    },
    "tags": []
   },
   "outputs": [
    {
     "name": "stdout",
     "output_type": "stream",
     "text": [
      "Training Set Size: 8299, Test Set Size: 2075\n",
      "Label Names: ['happiness', 'sadness']\n"
     ]
    }
   ],
   "source": [
    "import pandas as pd\n",
    "\n",
    "# Load dataset and select relevant columns\n",
    "df = pd.read_csv(\n",
    "    'tweet_emotions.csv',  # Replace with the actual path to your dataset\n",
    "    usecols=['content', 'sentiment'],  # Extract only the required columns\n",
    "    dtype={'content': 'string', 'sentiment': 'category'}  # Ensure correct types\n",
    ")\n",
    "\n",
    "# Rename columns for easier access\n",
    "df.rename(columns={'content': 'sentence', 'sentiment': 'label'}, inplace=True)\n",
    "\n",
    "# Filter dataset for specific labels (e.g., \"sadness\" and \"happiness\")\n",
    "df = df[(df['label'] == 'sadness') | (df['label'] == 'happiness')]\n",
    "\n",
    "# Remove unused categories\n",
    "df['label'] = df['label'].cat.remove_unused_categories()\n",
    "\n",
    "# Get label names (classes)\n",
    "label_names = df['label'].cat.categories.tolist()\n",
    "\n",
    "# Split dataset into training and test sets\n",
    "from sklearn.model_selection import train_test_split\n",
    "\n",
    "train_df, test_df = train_test_split(df, test_size=0.2, random_state=42)\n",
    "\n",
    "# Display information\n",
    "print(f'Training Set Size: {len(train_df)}, Test Set Size: {len(test_df)}')\n",
    "print(f'Label Names: {label_names}')\n"
   ]
  },
  {
   "cell_type": "markdown",
   "id": "8e1011a5",
   "metadata": {},
   "source": [
    "### **Filtering Dataset for Relevant Emotions**\n",
    "\n",
    "In this code, we specifically filter the dataset to include only two emotions: **\"sadness\"** and **\"happiness\"**. While this reduces the broader spectrum of emotions, it is done intentionally to focus on a **more categorical and structured analysis**. \n",
    "\n",
    "#### **Why Limit Emotions?**\n",
    "- **Purpose-Driven Simplification:** By narrowing the scope to \"sadness\" and \"happiness,\" we ensure that the model can produce more **ranked and focused results**. This approach allows for better categorization and evaluation, which aligns with our specific objectives.\n",
    "- **Enhanced Interpretability:** A smaller set of categories provides a clear and concise framework for sentiment analysis, making the results easier to understand and evaluate.\n",
    "- **Relevance Over Breadth:** While it may seem biased to exclude other emotions, this approach is deliberately designed to meet our goals, where we prioritize **precision and structure** over diversity in emotions."
   ]
  },
  {
   "cell_type": "markdown",
   "id": "c0644846",
   "metadata": {
    "papermill": {
     "duration": 0.005897,
     "end_time": "2024-03-01T10:52:28.623196",
     "exception": false,
     "start_time": "2024-03-01T10:52:28.617299",
     "status": "completed"
    },
    "tags": []
   },
   "source": [
    "# Dataset Overview and Class Balancing\n",
    "\n",
    "### This section presents samples from the training and test sets, visualizes label distribution, and computes class weights to address data imbalance, aiding model training."
   ]
  },
  {
   "cell_type": "code",
   "execution_count": 3,
   "id": "0b8ceb13",
   "metadata": {
    "execution": {
     "iopub.execute_input": "2024-03-01T10:52:28.636269Z",
     "iopub.status.busy": "2024-03-01T10:52:28.635696Z",
     "iopub.status.idle": "2024-03-01T10:52:28.884861Z",
     "shell.execute_reply": "2024-03-01T10:52:28.883976Z"
    },
    "papermill": {
     "duration": 0.257711,
     "end_time": "2024-03-01T10:52:28.886795",
     "exception": false,
     "start_time": "2024-03-01T10:52:28.629084",
     "status": "completed"
    },
    "tags": []
   },
   "outputs": [
    {
     "name": "stdout",
     "output_type": "stream",
     "text": [
      "Training Set Sample:\n",
      "    label                                                                                                        sentence\n",
      "  sadness                                                  &quot;My problem isn't that I miss you... 'cause I don't&quot;\n",
      "  sadness That's it? It's done already? This is one proof that there's nothing fair in this world.   http://bit.ly/10UEMq\n",
      "  sadness                                                            I am so hungry! And there is no food for me to steal\n",
      "happiness Feet hurt...finally in bed...will not forget this crunch when it's over...very very productive day today though\n",
      "  sadness                                                                                                  really ill atm\n",
      "\n",
      "Test Set Sample:\n",
      "    label                                                                                          sentence\n",
      "  sadness                                                  looks like we're rained out for weekend climbing\n",
      "  sadness                                 Hi Everyone miss me much?  muahhhhhhhhhhhhhhhhhhhhhhhhhhhhhhhh ;)\n",
      "  sadness rode the moped to the mall. fun stuff, its flippin gorgeous out. I'm sad that @maeannette is sick\n",
      "  sadness   gutted!!! vodafone wont repair my faulty Samsung Omnia due to non existent water damage  grrrrr\n",
      "happiness                                                            @shadowowns aww, &lt;3 why thank youu.\n"
     ]
    },
    {
     "data": {
      "image/png": "[encoded data removed]",
      "text/plain": [
       "<Figure size 1000x400 with 1 Axes>"
      ]
     },
     "metadata": {},
     "output_type": "display_data"
    },
    {
     "name": "stdout",
     "output_type": "stream",
     "text": [
      "\n",
      "Calculated Class Weights: {0: 0.9957765406028029, 1: 1.0042594385285577}\n"
     ]
    }
   ],
   "source": [
    "# Displaying the first few records of the training and test sets\n",
    "print(\"Training Set Sample:\")\n",
    "train_sample = train_df.head()\n",
    "print(train_sample.to_string(index=False))\n",
    "\n",
    "print(\"\\nTest Set Sample:\")\n",
    "test_sample = test_df.head()\n",
    "print(test_sample.to_string(index=False))\n",
    "\n",
    "# Plotting class distribution with a different style\n",
    "plt.figure(figsize=(10, 4))\n",
    "plt.barh(label_names, np.bincount(df['label'].cat.codes), color='skyblue', edgecolor='black')\n",
    "plt.title('Class Distribution Across Dataset')\n",
    "plt.xlabel('Number of Samples')\n",
    "plt.ylabel('Emotion Labels')\n",
    "plt.grid(axis='x', linestyle='--', alpha=0.7)\n",
    "plt.show()\n",
    "\n",
    "# Retrieving class labels as a NumPy array for balanced weight computation\n",
    "unique_classes = np.unique(df['label'].cat.codes)\n",
    "\n",
    "# Calculating class weights to mitigate imbalance in training data\n",
    "weights_dict = compute_class_weight(\n",
    "    class_weight=\"balanced\", \n",
    "    classes=unique_classes,\n",
    "    y=df['label'].cat.codes\n",
    ")\n",
    "\n",
    "# Mapping class weights to respective labels and displaying them\n",
    "class_weights_map = dict(enumerate(weights_dict))\n",
    "print(f\"\\nCalculated Class Weights: {class_weights_map}\")\n"
   ]
  },
  {
   "cell_type": "markdown",
   "id": "1c0ccda1",
   "metadata": {},
   "source": [
    "This graph shows the class distribution across the dataset for the emotions \"sadness\" and \"happiness.\" It highlights that both classes are equally represented, with around 5000 samples for each. The bars provide a clear of the data, showing that the model won't be biased toward one class over the other due to sample size."
   ]
  },
  {
   "cell_type": "markdown",
   "id": "b3923bb5",
   "metadata": {
    "papermill": {
     "duration": 0.006064,
     "end_time": "2024-03-01T10:52:28.899259",
     "exception": false,
     "start_time": "2024-03-01T10:52:28.893195",
     "status": "completed"
    },
    "tags": []
   },
   "source": [
    "# Section: Text Preprocessing\n",
    "\n",
    "### This section defines text preprocessing steps, including regex-based cleaning, stopword removal, and lemmatization, essential for standardizing input text. It provides regex patterns for removing unwanted symbols, URLs, and numbers, alongside a `lemmatize_tokenize` function to tokenize, remove stopwords, and lemmatize words in the text. The sample usage demonstrates transforming raw input text into a cleaned, tokenized, and lemmatized format, ready for model input."
   ]
  },
  {
   "cell_type": "code",
   "execution_count": 4,
   "id": "adddff90",
   "metadata": {
    "execution": {
     "iopub.execute_input": "2024-03-01T10:52:28.913162Z",
     "iopub.status.busy": "2024-03-01T10:52:28.912807Z",
     "iopub.status.idle": "2024-03-01T10:52:28.929665Z",
     "shell.execute_reply": "2024-03-01T10:52:28.928707Z"
    },
    "papermill": {
     "duration": 0.026404,
     "end_time": "2024-03-01T10:52:28.931827",
     "exception": false,
     "start_time": "2024-03-01T10:52:28.905423",
     "status": "completed"
    },
    "tags": []
   },
   "outputs": [
    {
     "name": "stdout",
     "output_type": "stream",
     "text": [
      "Cleaned Text: this is a sample tweet visit  for more details    \n",
      "Lemmatized and Tokenized: ['sample', 'tweet', 'visit', 'detail']\n"
     ]
    }
   ],
   "source": [
    "# Regex patterns for cleaning the text\n",
    "REPLACE_BY_SPACE_RE = re.compile(r'[/(){}\\[\\]\\|@,;]')    # add/remove regex as required\n",
    "BAD_SYMBOLS_RE = re.compile(r'[^0-9a-z #+_]')\n",
    "NUMBERS_RE = re.compile(r'\\d+')\n",
    "\n",
    "# NLTK stopwords and lemmatizer\n",
    "STOPWORDS = set(stopwords.words('english'))\n",
    "lemmatizer = WordNetLemmatizer()\n",
    "\n",
    "# Text Cleaning Function\n",
    "def preprocess_text(input_text):\n",
    "    input_text = tf.strings.lower(input_text)\n",
    "    input_text = tf.strings.regex_replace(input_text, r'http\\S+', '')\n",
    "    input_text = tf.strings.regex_replace(input_text, r'[@#][A-Za-z0-9_]+', ' ')\n",
    "    input_text = tf.strings.regex_replace(input_text, REPLACE_BY_SPACE_RE.pattern, ' ')  # Replace unwanted symbols with space\n",
    "    input_text = tf.strings.regex_replace(input_text, BAD_SYMBOLS_RE.pattern, '')  # Remove bad symbols\n",
    "    input_text = tf.strings.regex_replace(input_text, NUMBERS_RE.pattern, '')  # Remove numbers\n",
    "    return input_text\n",
    "\n",
    "# Function to tokenize, remove stopwords, and lemmatize\n",
    "def lemmatize_tokenize(text):\n",
    "    # Tokenize the text using TensorFlow, then process tokens\n",
    "    tokens = tf.strings.split(text)  # Tokenize the text using TensorFlow's split\n",
    "    tokens = tokens.numpy()  # Convert Tensor to NumPy array\n",
    "\n",
    "    # Convert to Python strings and remove stopwords\n",
    "    tokens = [token.decode('utf-8') for token in tokens if token.decode('utf-8') not in STOPWORDS]\n",
    "    \n",
    "    # Lemmatize the tokens\n",
    "    tokens = [lemmatizer.lemmatize(token) for token in tokens]\n",
    "    return tokens\n",
    "\n",
    "# Example usage\n",
    "example_text = \"This is a sample tweet! Visit https://example.com for more details. #example @user123\"\n",
    "cleaned_text = preprocess_text(example_text)\n",
    "\n",
    "# Convert the TensorFlow Tensor to a NumPy string\n",
    "cleaned_text_np = cleaned_text.numpy().decode('utf-8')\n",
    "\n",
    "print(\"Cleaned Text:\", cleaned_text_np)\n",
    "\n",
    "tokenized_lemmatized = lemmatize_tokenize(cleaned_text_np)\n",
    "print(\"Lemmatized and Tokenized:\", tokenized_lemmatized)\n"
   ]
  },
  {
   "cell_type": "markdown",
   "id": "9193560d",
   "metadata": {
    "papermill": {
     "duration": 0.006296,
     "end_time": "2024-03-01T10:52:28.944437",
     "exception": false,
     "start_time": "2024-03-01T10:52:28.938141",
     "status": "completed"
    },
    "tags": []
   },
   "source": [
    "# Text Vectorization and Model Setup\n",
    "\n",
    "### This section defines key text-processing and model parameters, including vocabulary and sequence length. The `TextVectorization` layer converts cleaned text into integer sequences, building a vocabulary from training data. Sample training sentences are shown in vectorized form to illustrate the preprocessing outcome."
   ]
  },
  {
   "cell_type": "code",
   "execution_count": 5,
   "id": "8fbc9542",
   "metadata": {
    "execution": {
     "iopub.execute_input": "2024-03-01T10:52:28.958375Z",
     "iopub.status.busy": "2024-03-01T10:52:28.957994Z",
     "iopub.status.idle": "2024-03-01T10:52:29.779901Z",
     "shell.execute_reply": "2024-03-01T10:52:29.779094Z"
    },
    "papermill": {
     "duration": 0.83159,
     "end_time": "2024-03-01T10:52:29.782178",
     "exception": false,
     "start_time": "2024-03-01T10:52:28.950588",
     "status": "completed"
    },
    "tags": []
   },
   "outputs": [
    {
     "name": "stdout",
     "output_type": "stream",
     "text": [
      "\n",
      "Vectorized Examples from Training Data:\n",
      "\n",
      "Original Sentence 1: '&quot;My problem isn't that I miss you... 'cause I don't&quot;'\n",
      "Vectorized (First 10 tokens): [ 87   6 793 375  20   2  51   8 290   2]\n",
      "\n",
      "Original Sentence 2: 'That's it? It's done already? This is one proof that there's nothing fair in this world.   http://bit.ly/10UEMq'\n",
      "Vectorized (First 10 tokens): [111   9  25 192 176  31  10  55   1  20]\n",
      "\n",
      "Original Sentence 3: 'I am so hungry! And there is no food for me to steal'\n",
      "Vectorized (First 10 tokens): [  2  50  15 545   7  78  10  36 388  11]\n"
     ]
    }
   ],
   "source": [
    "# Setting hyperparameters for text processing and model\n",
    "num_classes = len(label_names)       # The number of classes to predict\n",
    "vocab_size = 5000                    # Limit the number of unique words in the vocabulary\n",
    "sequence_length = 256                # Maximum number of words per sentence\n",
    "embedding_size = 128                 # Size of the embedding vectors\n",
    "\n",
    "# Create a TextVectorization layer to convert text to integer sequences\n",
    "text_vectorizer = layers.TextVectorization(\n",
    "    max_tokens=vocab_size,             # Limit the vocab size\n",
    "    standardize=preprocess_text,       # Clean text with the custom function\n",
    "    output_sequence_length=sequence_length,  # Fixed sequence length\n",
    "    output_mode='int'                  # Output integer IDs for words\n",
    ")\n",
    "\n",
    "# Build the vocabulary using the training sentences\n",
    "text_vectorizer.adapt(train_df['sentence'])\n",
    "\n",
    "# Display a formatted sample of vectorized text\n",
    "print(\"\\nVectorized Examples from Training Data:\")\n",
    "\n",
    "# Fetch a few sentences and their vectorized form\n",
    "sample_sentences = train_df['sentence'].iloc[0:3].to_list()\n",
    "vectorized_output = text_vectorizer(sample_sentences)\n",
    "\n",
    "# Pretty-print the sentences and their vectorized form\n",
    "for i, sentence in enumerate(sample_sentences):\n",
    "    print(f\"\\nOriginal Sentence {i+1}: '{sentence}'\")\n",
    "    print(f\"Vectorized (First 10 tokens): {vectorized_output[i].numpy()[:10]}\")\n"
   ]
  },
  {
   "cell_type": "markdown",
   "id": "de933039",
   "metadata": {},
   "source": [
    "# Text Classification Model Overview\n",
    "\n",
    "### The model uses a `Sequential` setup with text vectorization, embedding, pooling, dropout layers, and a final softmax layer for classification. It is designed for sentiment prediction, compiled with the Adam optimizer, and evaluates performance via accuracy."
   ]
  },
  {
   "cell_type": "code",
   "execution_count": 6,
   "id": "c0509547",
   "metadata": {
    "execution": {
     "iopub.execute_input": "2024-03-01T10:52:29.796047Z",
     "iopub.status.busy": "2024-03-01T10:52:29.795742Z",
     "iopub.status.idle": "2024-03-01T10:52:29.868066Z",
     "shell.execute_reply": "2024-03-01T10:52:29.867337Z"
    },
    "papermill": {
     "duration": 0.081686,
     "end_time": "2024-03-01T10:52:29.870261",
     "exception": false,
     "start_time": "2024-03-01T10:52:29.788575",
     "status": "completed"
    },
    "tags": []
   },
   "outputs": [
    {
     "data": {
      "text/html": [
       "<pre style=\"white-space:pre;overflow-x:auto;line-height:normal;font-family:Menlo,'DejaVu Sans Mono',consolas,'Courier New',monospace\"><span style=\"font-weight: bold\">Model: \"sequential\"</span>\n",
       "</pre>\n"
      ],
      "text/plain": [
       "\u001b[1mModel: \"sequential\"\u001b[0m\n"
      ]
     },
     "metadata": {},
     "output_type": "display_data"
    },
    {
     "data": {
      "text/html": [
       "<pre style=\"white-space:pre;overflow-x:auto;line-height:normal;font-family:Menlo,'DejaVu Sans Mono',consolas,'Courier New',monospace\">┏━━━━━━━━━━━━━━━━━━━━━━━━━━━━━━━━━┳━━━━━━━━━━━━━━━━━━━━━━━━┳━━━━━━━━━━━━━━━┓\n",
       "┃<span style=\"font-weight: bold\"> Layer (type)                    </span>┃<span style=\"font-weight: bold\"> Output Shape           </span>┃<span style=\"font-weight: bold\">       Param # </span>┃\n",
       "┡━━━━━━━━━━━━━━━━━━━━━━━━━━━━━━━━━╇━━━━━━━━━━━━━━━━━━━━━━━━╇━━━━━━━━━━━━━━━┩\n",
       "│ text_vectorization              │ (<span style=\"color: #00d7ff; text-decoration-color: #00d7ff\">None</span>, <span style=\"color: #00af00; text-decoration-color: #00af00\">256</span>)            │             <span style=\"color: #00af00; text-decoration-color: #00af00\">0</span> │\n",
       "│ (<span style=\"color: #0087ff; text-decoration-color: #0087ff\">TextVectorization</span>)             │                        │               │\n",
       "├─────────────────────────────────┼────────────────────────┼───────────────┤\n",
       "│ embedding (<span style=\"color: #0087ff; text-decoration-color: #0087ff\">Embedding</span>)           │ (<span style=\"color: #00d7ff; text-decoration-color: #00d7ff\">None</span>, <span style=\"color: #00af00; text-decoration-color: #00af00\">256</span>, <span style=\"color: #00af00; text-decoration-color: #00af00\">128</span>)       │       <span style=\"color: #00af00; text-decoration-color: #00af00\">640,000</span> │\n",
       "├─────────────────────────────────┼────────────────────────┼───────────────┤\n",
       "│ spatial_dropout1d               │ (<span style=\"color: #00d7ff; text-decoration-color: #00d7ff\">None</span>, <span style=\"color: #00af00; text-decoration-color: #00af00\">256</span>, <span style=\"color: #00af00; text-decoration-color: #00af00\">128</span>)       │             <span style=\"color: #00af00; text-decoration-color: #00af00\">0</span> │\n",
       "│ (<span style=\"color: #0087ff; text-decoration-color: #0087ff\">SpatialDropout1D</span>)              │                        │               │\n",
       "├─────────────────────────────────┼────────────────────────┼───────────────┤\n",
       "│ global_max_pooling1d            │ (<span style=\"color: #00d7ff; text-decoration-color: #00d7ff\">None</span>, <span style=\"color: #00af00; text-decoration-color: #00af00\">128</span>)            │             <span style=\"color: #00af00; text-decoration-color: #00af00\">0</span> │\n",
       "│ (<span style=\"color: #0087ff; text-decoration-color: #0087ff\">GlobalMaxPooling1D</span>)            │                        │               │\n",
       "├─────────────────────────────────┼────────────────────────┼───────────────┤\n",
       "│ dropout (<span style=\"color: #0087ff; text-decoration-color: #0087ff\">Dropout</span>)               │ (<span style=\"color: #00d7ff; text-decoration-color: #00d7ff\">None</span>, <span style=\"color: #00af00; text-decoration-color: #00af00\">128</span>)            │             <span style=\"color: #00af00; text-decoration-color: #00af00\">0</span> │\n",
       "├─────────────────────────────────┼────────────────────────┼───────────────┤\n",
       "│ dense (<span style=\"color: #0087ff; text-decoration-color: #0087ff\">Dense</span>)                   │ (<span style=\"color: #00d7ff; text-decoration-color: #00d7ff\">None</span>, <span style=\"color: #00af00; text-decoration-color: #00af00\">256</span>)            │        <span style=\"color: #00af00; text-decoration-color: #00af00\">33,024</span> │\n",
       "├─────────────────────────────────┼────────────────────────┼───────────────┤\n",
       "│ dropout_1 (<span style=\"color: #0087ff; text-decoration-color: #0087ff\">Dropout</span>)             │ (<span style=\"color: #00d7ff; text-decoration-color: #00d7ff\">None</span>, <span style=\"color: #00af00; text-decoration-color: #00af00\">256</span>)            │             <span style=\"color: #00af00; text-decoration-color: #00af00\">0</span> │\n",
       "├─────────────────────────────────┼────────────────────────┼───────────────┤\n",
       "│ dense_1 (<span style=\"color: #0087ff; text-decoration-color: #0087ff\">Dense</span>)                 │ (<span style=\"color: #00d7ff; text-decoration-color: #00d7ff\">None</span>, <span style=\"color: #00af00; text-decoration-color: #00af00\">2</span>)              │           <span style=\"color: #00af00; text-decoration-color: #00af00\">514</span> │\n",
       "└─────────────────────────────────┴────────────────────────┴───────────────┘\n",
       "</pre>\n"
      ],
      "text/plain": [
       "┏━━━━━━━━━━━━━━━━━━━━━━━━━━━━━━━━━┳━━━━━━━━━━━━━━━━━━━━━━━━┳━━━━━━━━━━━━━━━┓\n",
       "┃\u001b[1m \u001b[0m\u001b[1mLayer (type)                   \u001b[0m\u001b[1m \u001b[0m┃\u001b[1m \u001b[0m\u001b[1mOutput Shape          \u001b[0m\u001b[1m \u001b[0m┃\u001b[1m \u001b[0m\u001b[1m      Param #\u001b[0m\u001b[1m \u001b[0m┃\n",
       "┡━━━━━━━━━━━━━━━━━━━━━━━━━━━━━━━━━╇━━━━━━━━━━━━━━━━━━━━━━━━╇━━━━━━━━━━━━━━━┩\n",
       "│ text_vectorization              │ (\u001b[38;5;45mNone\u001b[0m, \u001b[38;5;34m256\u001b[0m)            │             \u001b[38;5;34m0\u001b[0m │\n",
       "│ (\u001b[38;5;33mTextVectorization\u001b[0m)             │                        │               │\n",
       "├─────────────────────────────────┼────────────────────────┼───────────────┤\n",
       "│ embedding (\u001b[38;5;33mEmbedding\u001b[0m)           │ (\u001b[38;5;45mNone\u001b[0m, \u001b[38;5;34m256\u001b[0m, \u001b[38;5;34m128\u001b[0m)       │       \u001b[38;5;34m640,000\u001b[0m │\n",
       "├─────────────────────────────────┼────────────────────────┼───────────────┤\n",
       "│ spatial_dropout1d               │ (\u001b[38;5;45mNone\u001b[0m, \u001b[38;5;34m256\u001b[0m, \u001b[38;5;34m128\u001b[0m)       │             \u001b[38;5;34m0\u001b[0m │\n",
       "│ (\u001b[38;5;33mSpatialDropout1D\u001b[0m)              │                        │               │\n",
       "├─────────────────────────────────┼────────────────────────┼───────────────┤\n",
       "│ global_max_pooling1d            │ (\u001b[38;5;45mNone\u001b[0m, \u001b[38;5;34m128\u001b[0m)            │             \u001b[38;5;34m0\u001b[0m │\n",
       "│ (\u001b[38;5;33mGlobalMaxPooling1D\u001b[0m)            │                        │               │\n",
       "├─────────────────────────────────┼────────────────────────┼───────────────┤\n",
       "│ dropout (\u001b[38;5;33mDropout\u001b[0m)               │ (\u001b[38;5;45mNone\u001b[0m, \u001b[38;5;34m128\u001b[0m)            │             \u001b[38;5;34m0\u001b[0m │\n",
       "├─────────────────────────────────┼────────────────────────┼───────────────┤\n",
       "│ dense (\u001b[38;5;33mDense\u001b[0m)                   │ (\u001b[38;5;45mNone\u001b[0m, \u001b[38;5;34m256\u001b[0m)            │        \u001b[38;5;34m33,024\u001b[0m │\n",
       "├─────────────────────────────────┼────────────────────────┼───────────────┤\n",
       "│ dropout_1 (\u001b[38;5;33mDropout\u001b[0m)             │ (\u001b[38;5;45mNone\u001b[0m, \u001b[38;5;34m256\u001b[0m)            │             \u001b[38;5;34m0\u001b[0m │\n",
       "├─────────────────────────────────┼────────────────────────┼───────────────┤\n",
       "│ dense_1 (\u001b[38;5;33mDense\u001b[0m)                 │ (\u001b[38;5;45mNone\u001b[0m, \u001b[38;5;34m2\u001b[0m)              │           \u001b[38;5;34m514\u001b[0m │\n",
       "└─────────────────────────────────┴────────────────────────┴───────────────┘\n"
      ]
     },
     "metadata": {},
     "output_type": "display_data"
    },
    {
     "data": {
      "text/html": [
       "<pre style=\"white-space:pre;overflow-x:auto;line-height:normal;font-family:Menlo,'DejaVu Sans Mono',consolas,'Courier New',monospace\"><span style=\"font-weight: bold\"> Total params: </span><span style=\"color: #00af00; text-decoration-color: #00af00\">673,538</span> (2.57 MB)\n",
       "</pre>\n"
      ],
      "text/plain": [
       "\u001b[1m Total params: \u001b[0m\u001b[38;5;34m673,538\u001b[0m (2.57 MB)\n"
      ]
     },
     "metadata": {},
     "output_type": "display_data"
    },
    {
     "data": {
      "text/html": [
       "<pre style=\"white-space:pre;overflow-x:auto;line-height:normal;font-family:Menlo,'DejaVu Sans Mono',consolas,'Courier New',monospace\"><span style=\"font-weight: bold\"> Trainable params: </span><span style=\"color: #00af00; text-decoration-color: #00af00\">673,538</span> (2.57 MB)\n",
       "</pre>\n"
      ],
      "text/plain": [
       "\u001b[1m Trainable params: \u001b[0m\u001b[38;5;34m673,538\u001b[0m (2.57 MB)\n"
      ]
     },
     "metadata": {},
     "output_type": "display_data"
    },
    {
     "data": {
      "text/html": [
       "<pre style=\"white-space:pre;overflow-x:auto;line-height:normal;font-family:Menlo,'DejaVu Sans Mono',consolas,'Courier New',monospace\"><span style=\"font-weight: bold\"> Non-trainable params: </span><span style=\"color: #00af00; text-decoration-color: #00af00\">0</span> (0.00 B)\n",
       "</pre>\n"
      ],
      "text/plain": [
       "\u001b[1m Non-trainable params: \u001b[0m\u001b[38;5;34m0\u001b[0m (0.00 B)\n"
      ]
     },
     "metadata": {},
     "output_type": "display_data"
    }
   ],
   "source": [
    "# Sequential model definition for text classification\n",
    "classification_model = models.Sequential()\n",
    "\n",
    "# Input layer: Accepts raw string input (sentences)\n",
    "classification_model.add(keras.Input(shape=(1,), dtype=tf.string))\n",
    "\n",
    "# Vectorization layer: Converts raw text to integer sequences\n",
    "classification_model.add(text_vectorizer)\n",
    "\n",
    "# Embedding layer: Transforms each word ID into a dense vector of size EMBEDDING_DIM\n",
    "classification_model.add(layers.Embedding(input_dim=vocab_size, output_dim=embedding_size))\n",
    "\n",
    "# SpatialDropout1D: Randomly drops entire 1D feature maps to improve regularization\n",
    "classification_model.add(layers.SpatialDropout1D(0.2))\n",
    "\n",
    "# GlobalMaxPooling1D: Reduces each feature map to a single value (taking the maximum)\n",
    "classification_model.add(layers.GlobalMaxPooling1D())\n",
    "\n",
    "# Dropout layer to avoid overfitting\n",
    "classification_model.add(layers.Dropout(0.4))\n",
    "\n",
    "# Fully connected (Dense) layer with 'gelu' activation for non-linearity\n",
    "classification_model.add(layers.Dense(256, activation='gelu'))\n",
    "\n",
    "# Another Dropout layer for further regularization\n",
    "classification_model.add(layers.Dropout(0.4))\n",
    "\n",
    "# Final output layer: Softmax activation to classify the text into N_CLASSES\n",
    "classification_model.add(layers.Dense(num_classes, activation='softmax'))\n",
    "\n",
    "# Compile the model using the Adam optimizer and sparse categorical crossentropy for classification\n",
    "classification_model.compile(\n",
    "    optimizer='adam', \n",
    "    loss='sparse_categorical_crossentropy', \n",
    "    metrics=['accuracy']\n",
    ")\n",
    "\n",
    "# Summary of the model structure for a quick overview\n",
    "classification_model.summary()\n"
   ]
  },
  {
   "cell_type": "markdown",
   "id": "3315069a",
   "metadata": {
    "papermill": {
     "duration": 0.005871,
     "end_time": "2024-03-01T10:52:29.882511",
     "exception": false,
     "start_time": "2024-03-01T10:52:29.876640",
     "status": "completed"
    },
    "tags": []
   },
   "source": [
    "# Training and Evaluating the Text Classifier\n",
    "\n",
    "### 1. **Prepare Data:** Reset indices, then separate text and labels for training and testing sets.\n",
    "### 2. **Train Model:** Run model training with early stopping to prevent overfitting.\n",
    "### 3. **Evaluate:** Measure the model's accuracy on test data and print final accuracy for validation."
   ]
  },
  {
   "cell_type": "code",
   "execution_count": 7,
   "id": "4eda5e75",
   "metadata": {
    "execution": {
     "iopub.execute_input": "2024-03-01T10:52:29.897020Z",
     "iopub.status.busy": "2024-03-01T10:52:29.896316Z",
     "iopub.status.idle": "2024-03-01T10:52:39.426399Z",
     "shell.execute_reply": "2024-03-01T10:52:39.425585Z"
    },
    "papermill": {
     "duration": 9.540045,
     "end_time": "2024-03-01T10:52:39.428501",
     "exception": false,
     "start_time": "2024-03-01T10:52:29.888456",
     "status": "completed"
    },
    "tags": []
   },
   "outputs": [
    {
     "name": "stdout",
     "output_type": "stream",
     "text": [
      "Epoch 1/300\n",
      "\u001b[1m33/33\u001b[0m \u001b[32m━━━━━━━━━━━━━━━━━━━━\u001b[0m\u001b[37m\u001b[0m \u001b[1m3s\u001b[0m 52ms/step - accuracy: 0.5247 - loss: 0.6916 - val_accuracy: 0.6704 - val_loss: 0.6721\n",
      "Epoch 2/300\n",
      "\u001b[1m33/33\u001b[0m \u001b[32m━━━━━━━━━━━━━━━━━━━━\u001b[0m\u001b[37m\u001b[0m \u001b[1m1s\u001b[0m 44ms/step - accuracy: 0.6600 - loss: 0.6515 - val_accuracy: 0.7643 - val_loss: 0.5507\n",
      "Epoch 3/300\n",
      "\u001b[1m33/33\u001b[0m \u001b[32m━━━━━━━━━━━━━━━━━━━━\u001b[0m\u001b[37m\u001b[0m \u001b[1m1s\u001b[0m 44ms/step - accuracy: 0.7788 - loss: 0.5029 - val_accuracy: 0.7913 - val_loss: 0.4488\n",
      "Epoch 4/300\n",
      "\u001b[1m33/33\u001b[0m \u001b[32m━━━━━━━━━━━━━━━━━━━━\u001b[0m\u001b[37m\u001b[0m \u001b[1m1s\u001b[0m 45ms/step - accuracy: 0.8215 - loss: 0.4060 - val_accuracy: 0.7957 - val_loss: 0.4261\n",
      "Epoch 5/300\n",
      "\u001b[1m33/33\u001b[0m \u001b[32m━━━━━━━━━━━━━━━━━━━━\u001b[0m\u001b[37m\u001b[0m \u001b[1m1s\u001b[0m 44ms/step - accuracy: 0.8657 - loss: 0.3384 - val_accuracy: 0.8053 - val_loss: 0.4180\n",
      "Epoch 6/300\n",
      "\u001b[1m33/33\u001b[0m \u001b[32m━━━━━━━━━━━━━━━━━━━━\u001b[0m\u001b[37m\u001b[0m \u001b[1m1s\u001b[0m 45ms/step - accuracy: 0.8760 - loss: 0.3049 - val_accuracy: 0.8034 - val_loss: 0.4199\n",
      "Epoch 7/300\n",
      "\u001b[1m33/33\u001b[0m \u001b[32m━━━━━━━━━━━━━━━━━━━━\u001b[0m\u001b[37m\u001b[0m \u001b[1m1s\u001b[0m 44ms/step - accuracy: 0.8948 - loss: 0.2662 - val_accuracy: 0.8101 - val_loss: 0.4270\n",
      "Epoch 8/300\n",
      "\u001b[1m33/33\u001b[0m \u001b[32m━━━━━━━━━━━━━━━━━━━━\u001b[0m\u001b[37m\u001b[0m \u001b[1m2s\u001b[0m 45ms/step - accuracy: 0.9007 - loss: 0.2470 - val_accuracy: 0.8092 - val_loss: 0.4399\n",
      "65/65 - 0s - 2ms/step - accuracy: 0.8092 - loss: 0.4399\n",
      "\n",
      "Final Test Accuracy: 0.8092\n"
     ]
    }
   ],
   "source": [
    "# Resetting index for both train and test sets to prevent any misalignment\n",
    "train_data = train_df.reset_index(drop=True)\n",
    "test_data = test_df.reset_index(drop=True)\n",
    "\n",
    "# Separating the features (sentences) and labels from both training and testing sets\n",
    "train_sentences, train_labels = train_data['sentence'], train_data['label'].cat.codes\n",
    "test_sentences, test_labels = test_data['sentence'], test_data['label'].cat.codes\n",
    "\n",
    "# Training the model\n",
    "training_history = classification_model.fit(\n",
    "    x=train_sentences,              # Training features: raw text sentences\n",
    "    y=train_labels,                 # Training labels: integer-encoded\n",
    "    validation_data=(test_sentences, test_labels),  # Validation data: raw text and labels\n",
    "    batch_size=256,                 # Batch size for training\n",
    "    epochs=300,                     # Maximum number of epochs\n",
    "    verbose=1,                      # Progress output verbosity level\n",
    "    class_weight=class_weights_map,  # Balancing class weights\n",
    "    callbacks=[keras.callbacks.EarlyStopping(patience=3)]  # Stop early if no improvement in 3 epochs\n",
    ")\n",
    "\n",
    "# Evaluate the model on test data\n",
    "final_loss, final_accuracy = classification_model.evaluate(test_sentences, test_labels, verbose=2)\n",
    "\n",
    "# Display the final accuracy on the test set\n",
    "print(f\"\\nFinal Test Accuracy: {final_accuracy:.4f}\")\n"
   ]
  },
  {
   "cell_type": "markdown",
   "metadata": {},
   "source": [
    "# Plotting Training and Validation History\n",
    "\n",
    "### This function generates a side-by-side visualization of training history, showcasing accuracy and loss for both training and validation sets across epochs. \n",
    "\n",
    "### - **Left Plot:** Accuracy over epochs, comparing training and validation sets.\n",
    "### - **Right Plot:** Loss over epochs, showing training and validation trends.\n",
    "### - **Goal:** Provides an overview of the model’s performance improvement over time."
   ]
  },
  {
   "cell_type": "code",
   "execution_count": 8,
   "id": "e8aa42b9",
   "metadata": {
    "execution": {
     "iopub.execute_input": "2024-03-01T10:52:39.455183Z",
     "iopub.status.busy": "2024-03-01T10:52:39.454889Z",
     "iopub.status.idle": "2024-03-01T10:52:39.978954Z",
     "shell.execute_reply": "2024-03-01T10:52:39.977899Z"
    },
    "papermill": {
     "duration": 0.540133,
     "end_time": "2024-03-01T10:52:39.981402",
     "exception": false,
     "start_time": "2024-03-01T10:52:39.441269",
     "status": "completed"
    },
    "tags": []
   },
   "outputs": [
    {
     "data": {
      "image/png": "[encoded data removed]",
      "text/plain": [
       "<Figure size 1400x600 with 2 Axes>"
      ]
     },
     "metadata": {},
     "output_type": "display_data"
    }
   ],
   "source": [
    "def plot_training_history(history):\n",
    "    # Extract training history for accuracy and loss\n",
    "    training_acc = history['accuracy']\n",
    "    validation_acc = history['val_accuracy']\n",
    "    training_loss = history['loss']\n",
    "    validation_loss = history['val_loss']\n",
    "    \n",
    "    epochs_range = range(1, len(training_acc) + 1)  # X-axis values (epochs)\n",
    "    \n",
    "    # Set up the figure size for subplots\n",
    "    plt.figure(figsize=(14, 6))\n",
    "\n",
    "    # Subplot 1: Accuracy over epochs\n",
    "    plt.subplot(1, 2, 1)\n",
    "    plt.plot(epochs_range, training_acc, 'bo-', label='Training Accuracy')\n",
    "    plt.plot(epochs_range, validation_acc, 'ro-', label='Validation Accuracy')\n",
    "    plt.title('Training and Validation Accuracy')\n",
    "    plt.xlabel('Epochs')\n",
    "    plt.ylabel('Accuracy')\n",
    "    plt.legend()\n",
    "    plt.grid(True)\n",
    "\n",
    "    # Subplot 2: Loss over epochs\n",
    "    plt.subplot(1, 2, 2)\n",
    "    plt.plot(epochs_range, training_loss, 'bo-', label='Training Loss')\n",
    "    plt.plot(epochs_range, validation_loss, 'ro-', label='Validation Loss')\n",
    "    plt.title('Training and Validation Loss')\n",
    "    plt.xlabel('Epochs')\n",
    "    plt.ylabel('Loss')\n",
    "    plt.legend()\n",
    "    plt.grid(True)\n",
    "\n",
    "    # Show the plot\n",
    "    plt.tight_layout()  # Adjust layout to prevent overlap\n",
    "    plt.show()\n",
    "\n",
    "# Call the function with the history object\n",
    "plot_training_history(training_history.history)\n"
   ]
  },
  {
   "cell_type": "markdown",
   "id": "78ee9343",
   "metadata": {},
   "source": [
    "In this graph, we can see that both training accuracy and loss are improving across the epochs. However, after around epoch 4, the validation accuracy seems to plateau, and the validation loss also stabilizes, suggesting that further training is not significantly benefiting the model's performance on unseen data. The training accuracy continues to rise, but the validation accuracy doesn't improve as much."
   ]
  },
  {
   "cell_type": "markdown",
   "id": "8789efb7",
   "metadata": {
    "papermill": {
     "duration": 0.013325,
     "end_time": "2024-03-01T10:52:40.008648",
     "exception": false,
     "start_time": "2024-03-01T10:52:39.995323",
     "status": "completed"
    },
    "tags": []
   },
   "source": [
    "# Model Prediction and Classification Metrics\n",
    "\n",
    "### This section evaluates the model's predictive accuracy on the test dataset, presenting a classification report and a confusion matrix for clarity:\n",
    "\n",
    "### - **Classification Report:** Summarizes precision, recall, and F1-score across sentiment categories.\n",
    "### - **Confusion Matrix:** Displays true versus predicted labels, allowing for a visual interpretation of misclassifications."
   ]
  },
  {
   "cell_type": "code",
   "execution_count": 9,
   "id": "5c2f8bf4",
   "metadata": {
    "execution": {
     "iopub.execute_input": "2024-03-01T10:52:40.037185Z",
     "iopub.status.busy": "2024-03-01T10:52:40.036830Z",
     "iopub.status.idle": "2024-03-01T10:52:40.874121Z",
     "shell.execute_reply": "2024-03-01T10:52:40.873269Z"
    },
    "papermill": {
     "duration": 0.854048,
     "end_time": "2024-03-01T10:52:40.876195",
     "exception": false,
     "start_time": "2024-03-01T10:52:40.022147",
     "status": "completed"
    },
    "tags": []
   },
   "outputs": [
    {
     "name": "stdout",
     "output_type": "stream",
     "text": [
      "\u001b[1m65/65\u001b[0m \u001b[32m━━━━━━━━━━━━━━━━━━━━\u001b[0m\u001b[37m\u001b[0m \u001b[1m0s\u001b[0m 4ms/step\n",
      "\n",
      "Classification Report:\n",
      "              precision    recall  f1-score   support\n",
      "\n",
      "   happiness       0.79      0.82      0.81      1015\n",
      "     sadness       0.82      0.80      0.81      1060\n",
      "\n",
      "    accuracy                           0.81      2075\n",
      "   macro avg       0.81      0.81      0.81      2075\n",
      "weighted avg       0.81      0.81      0.81      2075\n",
      "\n"
     ]
    },
    {
     "data": {
      "text/plain": [
       "<Figure size 800x600 with 0 Axes>"
      ]
     },
     "metadata": {},
     "output_type": "display_data"
    },
    {
     "data": {
      "image/png": "[encoded data removed]",
      "text/plain": [
       "<Figure size 640x480 with 2 Axes>"
      ]
     },
     "metadata": {},
     "output_type": "display_data"
    }
   ],
   "source": [
    "# Generate predictions for the test data\n",
    "predicted_labels = classification_model.predict(test_sentences).argmax(axis=1)\n",
    "\n",
    "# Display classification metrics\n",
    "print(\"\\nClassification Report:\")\n",
    "print(classification_report(\n",
    "    test_labels, predicted_labels, target_names=label_names\n",
    "))\n",
    "\n",
    "# Display the confusion matrix with better visualization\n",
    "plt.figure(figsize=(8, 6))\n",
    "ConfusionMatrixDisplay.from_predictions(\n",
    "    test_labels, predicted_labels, display_labels=label_names, cmap=\"Blues\"\n",
    ")\n",
    "plt.title('Confusion Matrix of Predicted vs True Labels')\n",
    "plt.grid(False)  # Disable grid lines for a cleaner look\n",
    "plt.show()\n"
   ]
  },
  {
   "cell_type": "markdown",
   "id": "46e7f17f",
   "metadata": {},
   "source": [
    "The results in the image show that your model works pretty well, with an accuracy of 81%. Both \"happiness\" and \"sadness\" have similar precision, recall, and F1-scores (around 0.81), which means the model predicts these emotions well overall. However, some mistakes are still happening, with quite a few \"happiness\" reviews getting classified as \"sadness\" and vice versa."
   ]
  },
  {
   "cell_type": "markdown",
   "id": "c5f0f552",
   "metadata": {},
   "source": [
    "# Saving the Model\n",
    "\n",
    "### This step saves the trained sentiment classification model as a file named `sentiment-for-nova.keras`, allowing for later reuse or deployment."
   ]
  },
  {
   "cell_type": "code",
   "execution_count": 10,
   "id": "cef0edd5",
   "metadata": {
    "execution": {
     "iopub.execute_input": "2024-03-01T10:52:40.907239Z",
     "iopub.status.busy": "2024-03-01T10:52:40.906915Z",
     "iopub.status.idle": "2024-03-01T10:52:41.020219Z",
     "shell.execute_reply": "2024-03-01T10:52:41.019447Z"
    },
    "papermill": {
     "duration": 0.1316,
     "end_time": "2024-03-01T10:52:41.022533",
     "exception": false,
     "start_time": "2024-03-01T10:52:40.890933",
     "status": "completed"
    },
    "tags": []
   },
   "outputs": [],
   "source": [
    "classification_model.save('sentiment-for-nova.keras')"
   ]
  },
  {
   "cell_type": "markdown",
   "id": "710f1a9f",
   "metadata": {
    "papermill": {
     "duration": 0.014148,
     "end_time": "2024-03-01T10:52:41.051572",
     "exception": false,
     "start_time": "2024-03-01T10:52:41.037424",
     "status": "completed"
    },
    "tags": []
   },
   "source": [
    "# Sample Emotion Predictions\n",
    "\n",
    "### Sample texts are processed to predict emotions, converting them for model input, predicting, and outputting each emotion label with its text. This provides a quick overview of model predictions."
   ]
  },
  {
   "cell_type": "code",
   "execution_count": 11,
   "id": "9ea75360",
   "metadata": {
    "execution": {
     "iopub.execute_input": "2024-03-01T10:52:41.081290Z",
     "iopub.status.busy": "2024-03-01T10:52:41.080937Z",
     "iopub.status.idle": "2024-03-01T10:52:41.141944Z",
     "shell.execute_reply": "2024-03-01T10:52:41.140980Z"
    },
    "papermill": {
     "duration": 0.078282,
     "end_time": "2024-03-01T10:52:41.143959",
     "exception": false,
     "start_time": "2024-03-01T10:52:41.065677",
     "status": "completed"
    },
    "tags": []
   },
   "outputs": [
    {
     "name": "stdout",
     "output_type": "stream",
     "text": [
      "\u001b[1m1/1\u001b[0m \u001b[32m━━━━━━━━━━━━━━━━━━━━\u001b[0m\u001b[37m\u001b[0m \u001b[1m0s\u001b[0m 22ms/step\n",
      "Predicted Emotions for Sample Texts:\n",
      "Text: I'm feeling so down today, nothing seems to go right.\n",
      "Predicted Emotion: sadness\n",
      "\n",
      "Text: This is the best day ever! I just got promoted at work!\n",
      "Predicted Emotion: happiness\n",
      "\n",
      "Text: I can't believe how terrible this service is. I'm never coming back!\n",
      "Predicted Emotion: sadness\n",
      "\n",
      "Text: I really miss my family. It's been too long since we last saw each other.\n",
      "Predicted Emotion: sadness\n",
      "\n",
      "Text: Wow! This food is absolutely delicious. I'm loving every bite!\n",
      "Predicted Emotion: happiness\n",
      "\n"
     ]
    }
   ],
   "source": [
    "sample_texts = [\n",
    "    \"I'm feeling so down today, nothing seems to go right.\",\n",
    "    \"This is the best day ever! I just got promoted at work!\",\n",
    "    \"I can't believe how terrible this service is. I'm never coming back!\",\n",
    "    \"I really miss my family. It's been too long since we last saw each other.\",\n",
    "    \"Wow! This food is absolutely delicious. I'm loving every bite!\"\n",
    "]\n",
    "\n",
    "# Convert text to Pandas Series for compatibility with the model\n",
    "text_series = pd.Series(sample_texts)\n",
    "\n",
    "# Generate predictions using the model\n",
    "predicted_emotions = classification_model.predict(text_series).argmax(axis=1)\n",
    "\n",
    "# Convert predicted labels to their corresponding emotion names\n",
    "predicted_labels = [label_names[pred] for pred in predicted_emotions]\n",
    "\n",
    "# Print the predicted emotions\n",
    "print(\"Predicted Emotions for Sample Texts:\")\n",
    "for text, emotion in zip(sample_texts, predicted_labels):\n",
    "    print(f\"Text: {text}\\nPredicted Emotion: {emotion}\\n\")\n"
   ]
  },
  {
   "cell_type": "markdown",
   "id": "fd85212d",
   "metadata": {},
   "source": [
    "# <font color=\"yellow\">Functionality testing</font>\n"
   ]
  },
  {
   "cell_type": "markdown",
   "id": "4e4caf98",
   "metadata": {},
   "source": [
    "# Instructions for Running the Code\n",
    "### Starting from This Section\n",
    "#### You can run the code if you already have a trained model saved in a file from the steps above.\n",
    "\n",
    "### How It Works\n",
    "#### 1. The code will prompt you to enter the name of a product you want to search for.\n",
    "#### 2. It will then automatically use Information Retrieval techniques in the browser to gather all the required information.\n",
    "\n",
    "### Important Notes\n",
    "#### Do not interact with the browser window during the process to avoid potential errors.\n",
    "#### The script is designed to handle all actions autonomously."
   ]
  },
  {
   "cell_type": "markdown",
   "id": "77d1f8c7",
   "metadata": {},
   "source": [
    "# Amazon Product Review Scraper\n",
    "### This script automates searching for products on Amazon, extracting product links, and scraping detailed reviews (name, content, and date) for analysis. It organizes the data into a structured format for easy use."
   ]
  },
  {
   "cell_type": "code",
   "execution_count": 12,
   "id": "fbac3a45",
   "metadata": {},
   "outputs": [
    {
     "name": "stdout",
     "output_type": "stream",
     "text": [
      "Scraping reviews for: Fruit of the Loom Men's Eversoft Fleece Hoodies, Moisture Wicking & Breathable, Full Zip Hooded Sweatshirt\n",
      "Scraping reviews for: EKLENTSON Men's Winter Jacket Thick Thermal Cotton Warm Fleece Lined Coat Trucker Lapel Work Cargo Jackets for Men\n",
      "Scraping reviews for: Hanes Men's Zip-Up Hoodie, EcoSmart Fleece Full-Zip Hoodie for Men, Hooded Sweatshirt\n",
      "Scraping reviews for: Yeokou Women's Casual Full Zip Up Sherpa Lined Hoodie Sweatshirt Jacket Coat\n",
      "Scraping reviews for: Columbia Steens Mountain 2.0 Full Zip Fleece Jacket\n",
      "Product: Fruit of the Loom Men's Eversoft Fleece Hoodies, Moisture Wicking & Breathable, Full Zip Hooded Sweatshirt\n",
      "Link: https://www.amazon.com/Fruit-Loom-Eversoft-Sweatshirts-Zip-Black/dp/B08YH1VZKF/ref=sr_1_1?dib=eyJ2IjoiMSJ9.XZLZsRTq17v4b8m_VlzWfYzbLoboQ302EktIKICG0SNf_NIs-Wr7CwY2pPLXy2_ZwWdaHgIidEJyrFGTt1CZTh85D9kRXmhyx7q1Qixboj9BO3hrRCD2SH-bdgZxUC83GC3ZaJ3SD48VuwV1sAJZmASbG3hmczrd5Dz4d_l22p1QFz8Ffto-BHkd6E85Z2G0er69HQ92RfPTsrvpppSwQ6QvKndnVMuNm5eSk4ypewBbqXPPHmQ3WDdSvpg2sWUGMtyo-nUJcODniE7aqVwM3-LvQYaZiL19jcWPBBoQ958.qX6HLr2s4bb_bRyLwc9WnWUHa63rNVndpnOcf8t9EoM&dib_tag=se&keywords=jacket&qid=1731767152&sr=8-1\n",
      "Reviews:\n",
      "  Reviewer: ChellyD\n",
      "  Content: I've been looking for a simple, comfortable, zip up hoodie to throw on when I leave the house and this jacket is perfection and the price cannot be beat. It's lightweight so it's perfect for crisp mornings. The fleece is so incredibly soft that I feel like I'm wearing a blanket when it's on. I always hate when jacket sleeve cuffs are really tight making it impossible to pull the sleeves up at all, but this one has the perfect amount of stretch so it's easy to pull up when washing my hands. I purchased the khaki color in large and it's exactly as pictured and fits just right. I typically wear medium or large so I chose to go with the large and it was loose fitting, as I desired, but doesn't look frumpy. I'll definitely be buying a couple more so I have options because it's THAT GOOD.\n",
      "  Date: Reviewed in the United States on October 17, 2024\n",
      "----------------------------------------\n",
      "  Reviewer: Amazon Customer\n",
      "  Content: I recently bought this hoodie, and I couldn’t be happier with it! The material is super soft and comfortable, making it perfect for lounging around or wearing out on casual days. It fits true to size and has a relaxed, cozy feel without being too baggy. The quality is impressive, especially considering how affordable it was. For the price, it’s an absolute steal and has quickly become one of my favorite pieces in my wardrobe. If you’re looking for a comfortable, well-priced hoodie, I highly recommend this one!\n",
      "  Date: Reviewed in the United States on October 13, 2024\n",
      "----------------------------------------\n",
      "  Reviewer: Hidalgo\n",
      "  Content: I really like this hoodie -- it is comfortable, breathable, fits well, and keeps me warm in cool weather. The zipper works well -- I have not experienced any jammed zippers since wearing this hoodie for several months.\n",
      "\n",
      "However, this hoodie is too thin to wear alone in colder temperatures (say, lower than the low 60F's), but makes a great additional layer of clothing because of its relative thinness. Wearing it along with a jacket likely will keep you warm, depending on your tolerance for cold weather. The strings that fasten the hood to the face tend to disappear beyond the hood's eyelets, making it at times, difficult to pull out to tie around your neck again.\n",
      "\n",
      "Perhaps the biggest complaint I have about this piece of clothing is that the color fades relatively quickly. After a few months, as you can see from the photos, the color starts to fade -- yet the jacket will still keep you warm.\n",
      "\n",
      "If you can get past the minor inconveniences, then this hoodie is a great buy and great value.\n",
      "  Date: Reviewed in the United States on October 12, 2024\n",
      "----------------------------------------\n",
      "  Reviewer: kym foust\n",
      "  Content: I bought this red zipper hoodie for my kiddo who needed one for work. We went straight to Gildan as our go-to brand. This hoodie is everything we expected from Gildan—well-made, comfortable, and true to size. The fit is reliable, not too tight and not too loose.\n",
      "After a few washes and dryer cycles, it’s held up beautifully—no pilling or fading, and the color is still as bright. You can tell this is a sturdy, classic piece that’ll last. Highly recommend this hoodie if you’re looking for something dependable and durable!\n",
      "  Date: Reviewed in the United States on November 8, 2024\n",
      "----------------------------------------\n",
      "  Reviewer: Ca Ssan Draaa\n",
      "  Content: I bought the orange jacket as part of my son's Halloween costume (I still don't understand his costume, but I digress.)\n",
      "Let me start by saying he will be well seen on Halloween night. So kudos for safety there! This is the brightest orange I've ever seen. If possible, its brighter than construction workers orange.\n",
      "The fit is great on him. The size chart is accurate. It's decently priced, pretty good quality and very warm. If you're looking to be seen (or as some orange guy with a gas mask for Halloween), this is a great option. I'd pick a different color for everyday wear and comfort personally.\n",
      "  Date: Reviewed in the United States on October 1, 2024\n",
      "----------------------------------------\n",
      "  Reviewer: Shelley B.\n",
      "  Content: I bought a different color for myself two days ago. My son loved it and asked “, can I get one”? So , I ordered it and it arrived nicely packaged ( Eco friendly) today. Mine was 3X and his is an XL , they both are True to size! They are so soft and warm but don’t make you too hot ( like some do) They are good for around the house and outside! I live in N.Y. It’s very cool out and I put mine on and went to the store! It was perfect for a non bulky alternative for cool weather! I recommend this product for all Females and males!!\n",
      "  Date: Reviewed in the United States on November 3, 2024\n",
      "----------------------------------------\n",
      "  Reviewer: Jo Ann West\n",
      "  Content: I absolutely love this zip up sweatshirt. I am a petite woman and I love to wear extra large sweatshirts when in my home during the winter months. I ordered the 3X and it fits exactly as I want. It’s very loose fitting and comfortable and it covers my thighs. I have a few other sweatshirts, not this brand, that also fit me like this one, but they are too heavy and I find myself getting too warm in them, not with this one. It is lightweight and very soft. It is perfect for indoors in the winter months. It washes well, too. No shrinkage.\n",
      "  Date: Reviewed in the United States on November 3, 2024\n",
      "----------------------------------------\n",
      "  Reviewer: QC\n",
      "  Content: Soo soft, pockets are the best, the hood is finally a good size, i put in the dryer on low heat or hang to dry to avoid shrinking or pilling, great quality for the price, the zipper is sturdy. Recommend for sure. I'm a woman 5'8\" 170 lbs and I wanted super baggy so I got a size 2XL\n",
      "  Date: Reviewed in the United States on November 5, 2024\n",
      "----------------------------------------\n",
      "  Reviewer: AmazonCustomer\n",
      "  Content: The Fruit of the Loom Men’s EverSoft Fleece Hoodie is a great choice for everyday comfort. The fleece fabric is soft, warm, and lightweight, making it perfect for layering or casual wear. The fit is relaxed, and it offers excellent value for the price. Whether lounging at home or running errands, this hoodie is a reliable and cozy option. Highly recommend!\n",
      "  Date: Reviewed in Canada on November 10, 2024\n",
      "----------------------------------------\n",
      "  Reviewer: Jamie65146\n",
      "  Content: Es sumamente delgada como papel, compre por la marca pero muy decepcionante calidad.\n",
      "Parece ropa china de Temu.\n",
      "  Date: Reviewed in Mexico on November 10, 2024\n",
      "----------------------------------------\n",
      "  Reviewer: Daniel\n",
      "  Content: Me gustan mucho, son cómodas, suaves y resistentes.\n",
      "  Date: Reviewed in Mexico on November 3, 2024\n",
      "----------------------------------------\n",
      "  Reviewer: F4C3 Salazar\n",
      "  Content: Genial 👍🏻\n",
      "  Date: Reviewed in Mexico on October 28, 2024\n",
      "----------------------------------------\n",
      "  Reviewer: Etanol83\n",
      "  Content: Es cómoda y ligera la talla es perfecta. La recomiendo\n",
      "  Date: Reviewed in Mexico on September 28, 2024\n",
      "----------------------------------------\n",
      "================================================================================\n",
      "Product: EKLENTSON Men's Winter Jacket Thick Thermal Cotton Warm Fleece Lined Coat Trucker Lapel Work Cargo Jackets for Men\n",
      "Link: https://www.amazon.com/EKLENTSON-Winter-Jackets-Cotton-Pockets/dp/B09L4HHVQ5/ref=sr_1_2?dib=eyJ2IjoiMSJ9.XZLZsRTq17v4b8m_VlzWfYzbLoboQ302EktIKICG0SNf_NIs-Wr7CwY2pPLXy2_ZwWdaHgIidEJyrFGTt1CZTh85D9kRXmhyx7q1Qixboj9BO3hrRCD2SH-bdgZxUC83GC3ZaJ3SD48VuwV1sAJZmASbG3hmczrd5Dz4d_l22p1QFz8Ffto-BHkd6E85Z2G0er69HQ92RfPTsrvpppSwQ6QvKndnVMuNm5eSk4ypewBbqXPPHmQ3WDdSvpg2sWUGMtyo-nUJcODniE7aqVwM3-LvQYaZiL19jcWPBBoQ958.qX6HLr2s4bb_bRyLwc9WnWUHa63rNVndpnOcf8t9EoM&dib_tag=se&keywords=jacket&qid=1731767152&sr=8-2\n",
      "Reviews:\n",
      "  Reviewer: Carline\n",
      "  Content: My Husband loves his new fall jacket. It is lined, comfortable, and just perfect for our New England fall weather. The color is black- very chique and VERY fair price for the product. 5 stars!\n",
      "  Date: Reviewed in the United States on October 17, 2024\n",
      "----------------------------------------\n",
      "  Reviewer: Gary\n",
      "  Content: Amazon recommended a large size (based on who knows what), so I got it. It was too tight around chest and shoulders. Swapped for an XL and is now my favorite winter jacket. This is a snap button jacket- not a zip-up. High quality materials and fit. A lot of value at this price.\n",
      "  Date: Reviewed in the United States on November 11, 2024\n",
      "----------------------------------------\n",
      "  Reviewer: Michael m\n",
      "  Content: Worth the money. Size runs a tad small. Warm and comfy.\n",
      "  Date: Reviewed in the United States on November 2, 2024\n",
      "----------------------------------------\n",
      "  Reviewer: Deborah\n",
      "  Content: Love the snaps! Good quality and nice looking\n",
      "  Date: Reviewed in the United States on November 12, 2024\n",
      "----------------------------------------\n",
      "  Reviewer: DANTE I Duruisseau\n",
      "  Content: I'm about 220lbs and I ordered a XXL and it fits great, it's not to heavy and it feels very warm. It's just started snowing here in Colorado today so it's about to get tested out .\n",
      "  Date: Reviewed in the United States on November 4, 2024\n",
      "----------------------------------------\n",
      "  Reviewer: D. M.\n",
      "  Content: Love this jacket. It's light and warm and doesn’t over heat you when you walk into a warm store for instance, or the weather gets warmer. Lots of pockets, thw zipper easily comes together without fumbling with it, soft lining and flexible outer shell that isn't to stiff to limit movement. Great price for a coat like this. Recommend\n",
      "  Date: Reviewed in the United States on September 5, 2024\n",
      "----------------------------------------\n",
      "  Reviewer: N\n",
      "  Content: Great warm jacket. Good quality.\n",
      "  Date: Reviewed in the United States on September 26, 2024\n",
      "----------------------------------------\n",
      "  Reviewer: Very nice!\n",
      "  Content: Its very comfortable. Not too heavy and not too light. I really am pleased with it.\n",
      "  Date: Reviewed in the United States on November 9, 2024\n",
      "----------------------------------------\n",
      "  Reviewer: John A.\n",
      "  Content: Excellent jacket, fits well. I was out in -30C weather today and the jacket kept me warm. It also stops the wind.\n",
      "  Date: Reviewed in Canada on January 12, 2024\n",
      "----------------------------------------\n",
      "  Reviewer: M. H\n",
      "  Content: Comfy, very warm, and a bonus good look. I followed other reviews and went one size up. Wise decision.\n",
      "  Date: Reviewed in Canada on October 28, 2024\n",
      "----------------------------------------\n",
      "  Reviewer: Emyy\n",
      "  Content: Perfect size, can wash it wouldn't problems still nice, warm and if it's really cold put a sweater under it.\n",
      "  Date: Reviewed in Canada on March 7, 2024\n",
      "----------------------------------------\n",
      "  Reviewer: Opeyemi Ajayi\n",
      "  Content: I like the feel on my body. It keeps me warm in 1 to 15 degrees Celsius weather. I've not tried it in winter yet. It fits properly and it looks great for pictures. I recommend\n",
      "  Date: Reviewed in Canada on October 17, 2024\n",
      "----------------------------------------\n",
      "  Reviewer: Phillip Boyd\n",
      "  Content: Looks great and fits perfect\n",
      "  Date: Reviewed in Canada on January 20, 2024\n",
      "----------------------------------------\n",
      "================================================================================\n",
      "Product: Hanes Men's Zip-Up Hoodie, EcoSmart Fleece Full-Zip Hoodie for Men, Hooded Sweatshirt\n",
      "Link: https://www.amazon.com/Hanes-EcoSmart-Fleece-Hoodie-X-Large/dp/B00JUM4NY8/ref=sr_1_3?dib=eyJ2IjoiMSJ9.XZLZsRTq17v4b8m_VlzWfYzbLoboQ302EktIKICG0SNf_NIs-Wr7CwY2pPLXy2_ZwWdaHgIidEJyrFGTt1CZTh85D9kRXmhyx7q1Qixboj9BO3hrRCD2SH-bdgZxUC83GC3ZaJ3SD48VuwV1sAJZmASbG3hmczrd5Dz4d_l22p1QFz8Ffto-BHkd6E85Z2G0er69HQ92RfPTsrvpppSwQ6QvKndnVMuNm5eSk4ypewBbqXPPHmQ3WDdSvpg2sWUGMtyo-nUJcODniE7aqVwM3-LvQYaZiL19jcWPBBoQ958.qX6HLr2s4bb_bRyLwc9WnWUHa63rNVndpnOcf8t9EoM&dib_tag=se&keywords=jacket&qid=1731767152&sr=8-3\n",
      "Reviews:\n",
      "  Reviewer: John Wright\n",
      "  Content: I bought four of these Hanes EcoSmart fleece hoodies in different colors for Christmas, and they did not disappoint! For this one, the color is a deep, rich red—perfect for the holiday season. Everyone I gifted them to loved the cozy feel and comfortable fit.\n",
      "\n",
      "The material is soft and warm, but not too heavy, making it great for layering. The zipper works smoothly, and the hood is just the right size—not too tight, not too loose.\n",
      "\n",
      "Sizing was pretty spot on—true to size without being too snug or too baggy. After a couple of washes, the hoodies still look and feel great, with no shrinking or fading so far. It’s one of those versatile pieces that you can wear around the house or when you’re out running errands.\n",
      "\n",
      "Overall, these hoodies were a solid Christmas gift choice. If you’re looking for something affordable, comfy, and stylish, this one’s a winner!\n",
      "  Date: Reviewed in the United States on October 19, 2024\n",
      "----------------------------------------\n",
      "  Reviewer: Nik\n",
      "  Content: I purchased the Hanes Men's EcoSmart Fleece Full-Zip Hoodie in Deep Red (Large), and I am very satisfied with it. The color is vibrant, and the fit is perfect for a casual, relaxed look. The hoodie is made from soft fleece material, which makes it cozy and warm for chilly weather. I love that it's part of their EcoSmart line, which means it has a sustainability certification.\n",
      "\n",
      "What I appreciate the most is how lightweight yet warm it is, perfect for layering. The zipper works smoothly, and the hood adds an extra layer of comfort on windy days. My only minor complaint is that the material is not super thick, so it may not be warm enough for very cold winter days without additional layering.\n",
      "\n",
      "Overall, it's an excellent hoodie for the price, and I even went ahead and bought another variation of it. Highly recommend if you're looking for an affordable, comfortable, and eco-friendly hoodie!\n",
      "  Date: Reviewed in the United States on October 8, 2024\n",
      "----------------------------------------\n",
      "  Reviewer: Natalie\n",
      "  Content: The hoodie is lightweight enough for cool weather. I wouldn’t recommend for very cold/winter weather. It fits true to size, but I recommend sizing up for a fit that’s comfortable to wear over clothes and combat shrinkage.\n",
      "\n",
      "The biggest drawback are the pockets. They are extremely small to the point of being not functional or practical for their intended purpose (which is to, you know, hold things without them falling out). My phone is constantly falling out. I worry excessively about the things in the pockets falling out and breaking. I no longer use the pockets because the anxiety they were causing me was unnecessary.\n",
      "\n",
      "If you’re like me and need functional pockets, I suggest you look elsewhere. If you care little about the functionality of the pockets, then the hoodie is great.\n",
      "  Date: Reviewed in the United States on October 23, 2024\n",
      "----------------------------------------\n",
      "  Reviewer: JW\n",
      "  Content: I bought this hoodie during Prime Days at a rather incredible price. Like all Hanes hoodies I've owned over the years (and currently own), the quality is excellent.\n",
      "\n",
      "I consider this one to be a lightweight hoodie (which is what I wanted, for lounging around the house in winter). Being the middle of summer on the southwest coast, though, I haven't really had a chance to gauge the warmth factor yet; but I've worn it a couple times outdoors in the pre-dawn hours, and I'm burning up after 10-15 minutes. So I would have to say that the fleece does a pretty good job of retaining body heat and keeping you warm. [UPDATE: 10/18/2024] Now that autumn is upon us and the temperature is cooling down, I'm in a much better position to comment on the warmth of this hoodie. I've worn it in 52-degree weather--which may not be \"cold\" to some but is certainly brisk, especially with a breeze coming off the cold California Current in dense fog--and I can attest that this hoodie has an incredible warmth-to-weight ratio; i.e. lots of warmth without a lot of weight.]\n",
      "\n",
      "Sizing runs about what you'd expect. I'm 6'3\" 260 lbs and ordered the XL. It's a little short--I wear an XLT when available--but it fits great in the chest & sleeves. These are 50% cotton, so there will be some shrinkage, but not a ton; but then again, my wife washed it in cold water and air-dried it to be safe, only sticking it in the dryer for a few minutes to fluff it up after it was already dry.\n",
      "\n",
      "I don't think Hanes hoodies are \"perfect\", but if there's a manufacturer of better hoodies out there, it's a well-kept secret. You can't beat Hanes, and this is another great selection in their lineup.\n",
      "  Date: Reviewed in the United States on August 15, 2024\n",
      "----------------------------------------\n",
      "  Reviewer: Charles Ritter\n",
      "  Content: So I read the reviews before buying it, and a few people complained that it was too thin. So I figured it was exactly what I was looking for, a lightweight zip-up piece of outerwear. It fits very well, I went with a large (despite being in the lower-medium range of their size chart) and it fits me perfectly (very close fit without being overly tight). So I would suggest ordering a size up from wherever your measurements put you. It adds warmth without making me overheat like my thicker winter jacket does. It is sort of a sweatshirt material on the outside but a very soft fleece (or similar) fabric on the inside so it’s very comfortable. It has give, and will stretch if needed. Overall this is an amazing product for the $12.50 price tag. Very happy I purchased this. The only downside I see with it is that the pockets are extremely shallow so they won’t fit a wallet or a cell phone (unless you happen to be sporting a Motorola Razr, which I am not). But at $12.50 I certainly can’t rate it below 5 stars for that. Good product. Will be a great 4 seasons jacket. It works very well. Small enough can even wear it under a thicker jacket in the coldest weather.\n",
      "  Date: Reviewed in the United States on October 23, 2024\n",
      "----------------------------------------\n",
      "  Reviewer: Gf\n",
      "  Content: Great fitting hoodie, the price was good. Well made, soft. True to size\n",
      "  Date: Reviewed in the United States on October 28, 2024\n",
      "----------------------------------------\n",
      "  Reviewer: 2eBlue\n",
      "  Content: It’s a decent hoodie. Size as expected. Lovely shade. Lighter weight so good for cooler summer days.\n",
      "Will need to layer up for spring/autumn.\n",
      "Bit pricey for what you get but I had a credit so it didn’t hurt as much as it would have otherwise.\n",
      "  Date: Reviewed in Canada on August 24, 2024\n",
      "----------------------------------------\n",
      "  Reviewer: Efren Ruiz Salinas\n",
      "  Content: Buena opción para las mañanas frescas.\n",
      "  Date: Reviewed in Mexico on March 16, 2024\n",
      "----------------------------------------\n",
      "  Reviewer: Jason V.\n",
      "  Content: No complaints. It's got a good flees lining. The only thing Is since I can't try it on first. Should have got the next size up.\n",
      "  Date: Reviewed in Canada on December 31, 2023\n",
      "----------------------------------------\n",
      "  Reviewer: Amazon Customer\n",
      "  Content: This sweater is nice and soft. It's not very thick but that doesn't make it bad its just not for the coldest of weather.\n",
      "\n",
      "I bought an XL and it is actually an XL, the sleeves are long enough and the sweater is long enough. I could have probably bought a Large but I was worried it would be too short or have short sleeves because so many other brands (like Amazon) offer XL sizes but are still way too small/short. This sweater is true to size and you will get what you pay for. Worth it.\n",
      "  Date: Reviewed in Canada on October 16, 2023\n",
      "----------------------------------------\n",
      "  Reviewer: Cliente de Amazon\n",
      "  Content: Es que muchas marcas piensan que el hacer una talla XXL es porque tienes tremenda panza y no !!!!!!, es porque tengo los brazos largos. Pero buena calidad, a buen precio.\n",
      "  Date: Reviewed in Mexico on January 25, 2023\n",
      "----------------------------------------\n",
      "================================================================================\n",
      "Product: Yeokou Women's Casual Full Zip Up Sherpa Lined Hoodie Sweatshirt Jacket Coat\n",
      "Link: https://www.amazon.com/Yeokou-Womens-Casual-Sherpa-Sweatshirt/dp/B07FB8XP7T/ref=sr_1_4?dib=eyJ2IjoiMSJ9.XZLZsRTq17v4b8m_VlzWfYzbLoboQ302EktIKICG0SNf_NIs-Wr7CwY2pPLXy2_ZwWdaHgIidEJyrFGTt1CZTh85D9kRXmhyx7q1Qixboj9BO3hrRCD2SH-bdgZxUC83GC3ZaJ3SD48VuwV1sAJZmASbG3hmczrd5Dz4d_l22p1QFz8Ffto-BHkd6E85Z2G0er69HQ92RfPTsrvpppSwQ6QvKndnVMuNm5eSk4ypewBbqXPPHmQ3WDdSvpg2sWUGMtyo-nUJcODniE7aqVwM3-LvQYaZiL19jcWPBBoQ958.qX6HLr2s4bb_bRyLwc9WnWUHa63rNVndpnOcf8t9EoM&dib_tag=se&keywords=jacket&qid=1731767152&sr=8-4\n",
      "Reviews:\n",
      "  Reviewer: Mendy\n",
      "  Content: This is exactly what I was looking for. Full zip up, warm lined including the pockets, great for fall walks. Soft, warm, breathable. It does come in a vacuum sealed bag. Just opened the bag and let the jacket naturally fluff back up.\n",
      "  Date: Reviewed in the United States on November 13, 2024\n",
      "----------------------------------------\n",
      "  Reviewer: Woodworx\n",
      "  Content: My wife loves it. It fits well and is warm and comfortable.\n",
      "  Date: Reviewed in the United States on October 21, 2024\n",
      "----------------------------------------\n",
      "  Reviewer: Dee\n",
      "  Content: I just got this jacket, I got it in black and an extra large, they didn’t have a large available, and extra large fits me just great, especially considering I want to wear layers under it, when the weather starts getting cold here, I did already wear it, though wasn’t very chilly yet and it’s a very warm coat. It’s super comfortable, I did not wash it, I just let it air out, it seems fine to me. The zipper works and it’s just super cozy.\n",
      "  Date: Reviewed in the United States on October 17, 2024\n",
      "----------------------------------------\n",
      "  Reviewer: hershy\n",
      "  Content: Bought this hoodie after my wife bought one and loved it, it’s really comfortable and warm, great value for money. But be aware, this will shrink by more than 2 sizes after first wash so buy two sizes bigger than what you need.\n",
      "  Date: Reviewed in the United States on October 27, 2024\n",
      "----------------------------------------\n",
      "  Reviewer: bear\n",
      "  Content: Well made and very warm. Not to heavy but not to light either but just perfect for someone that rarely wears a coat.\n",
      "  Date: Reviewed in the United States on November 9, 2024\n",
      "----------------------------------------\n",
      "  Reviewer: Chlo\n",
      "  Content: Love this product very nice and has a very soft feel to it and kept me warm at night . The color is as described and is very vibrant. I got a medium. I’m usually a medium.\n",
      "  Date: Reviewed in the United States on October 26, 2024\n",
      "----------------------------------------\n",
      "  Reviewer: Melanie Anderson\n",
      "  Content: I ordered this jacket in black XL. It was so soft and thick and I could tell that it was going to definitely protect me from the cold. However, after trying it on, I realized it runs small. Instead of exchanging it, I gave it to my sister and ordered an XXL. This too ran small. I washed it in cold water and hung it up to dry. I tried it on again and now it doesn't fit because it shrunk.\n",
      "\n",
      "Please do not buy this if you're plus size or have long arms like myself. Also, it shrinks. So please size up! If you're a smaller person, then this jacket will work just fine for you.\n",
      "  Date: Reviewed in the United States on November 4, 2024\n",
      "----------------------------------------\n",
      "  Reviewer: Uke4Jesus\n",
      "  Content: This jacket is great. It is very soft inside and fits good. I got xL. It seems smaller than that but I can still wear a sweatshirt under it. The color is true to form. Feels thicker than it is. It is lighter than it looks too. It is stretchy and it keeps it’s form after being washed.\n",
      "  Date: Reviewed in the United States on November 10, 2024\n",
      "----------------------------------------\n",
      "  Reviewer: Mónica MS\n",
      "  Content: Buena calidad de material y costura.\n",
      "Talla un poquito ajustada, pero totalmente pasable.\n",
      "Súper caliente para el invierno 👍🏻👍🏻\n",
      "\n",
      "Hace más de un año pedí, de la misma marca, una sudadera cerrada y un pants, y son excelentes y súper calientitos.\n",
      "\n",
      "Solo ‼️ojo‼️ si tienes alergia a los materiales.\n",
      "\n",
      "Por lo demás fabulosa, la volvería a comprar sin duda.\n",
      "\n",
      "Solo un detalle negativo:\n",
      "El paquete llegó abierto de la envoltura exterior😡😤😡😤\n",
      "\n",
      "El 80 % de los paquetes de Amazon, me llegan abiertos y lo he reportado más de 2 veces.\n",
      "Y siguen llegando abiertos.\n",
      "\n",
      "Por favor!! Arreglen este problema!!! 🙏🏻🙏🏻🙏🏻\n",
      "  Date: Reviewed in Mexico on July 20, 2024\n",
      "----------------------------------------\n",
      "  Reviewer: Gwen\n",
      "  Content: Loved the hoodie very comfortable and warm. The fit was great as well.\n",
      "  Date: Reviewed in Canada on March 31, 2024\n",
      "----------------------------------------\n",
      "  Reviewer: J. Müller\n",
      "  Content: China-Ware, daher günstig, aber in diesem Fall ist auch die Qualität gut\n",
      "X-fach gewaschen und trotzdem alle Nähte fest und keine anderen Einbußen\n",
      "Habe sie vorwiegend beim Camping getragen (auch Sommernächte können frisch sein)\n",
      "Hat keinen \"Schnitt\" (besondere Form), deshalb trage ich sie nicht zum Chic Ausgehen in der Stadt, aber bei allen anderen Gelegenheiten schätze ich, das sie warm und kuschelig ist\n",
      "  Date: Reviewed in Germany on August 14, 2024\n",
      "----------------------------------------\n",
      "  Reviewer: Very thin .. not worth it for the price. You could buy a branded one with a good quality for 100sar on sale\n",
      "  Content: Very cheap quality for its price\n",
      "  Date: Reviewed in Saudi Arabia on November 28, 2023\n",
      "----------------------------------------\n",
      "  Reviewer: Kkp\n",
      "  Content: I like it so much\n",
      "  Date: Reviewed in the United Arab Emirates on November 22, 2023\n",
      "----------------------------------------\n",
      "================================================================================\n",
      "Product: Columbia Steens Mountain 2.0 Full Zip Fleece Jacket\n",
      "Link: https://www.amazon.com/Columbia-Steens-Mountain-Fleece-Classic/dp/B0076R6L58/ref=sr_1_5?dib=eyJ2IjoiMSJ9.XZLZsRTq17v4b8m_VlzWfYzbLoboQ302EktIKICG0SNf_NIs-Wr7CwY2pPLXy2_ZwWdaHgIidEJyrFGTt1CZTh85D9kRXmhyx7q1Qixboj9BO3hrRCD2SH-bdgZxUC83GC3ZaJ3SD48VuwV1sAJZmASbG3hmczrd5Dz4d_l22p1QFz8Ffto-BHkd6E85Z2G0er69HQ92RfPTsrvpppSwQ6QvKndnVMuNm5eSk4ypewBbqXPPHmQ3WDdSvpg2sWUGMtyo-nUJcODniE7aqVwM3-LvQYaZiL19jcWPBBoQ958.qX6HLr2s4bb_bRyLwc9WnWUHa63rNVndpnOcf8t9EoM&dib_tag=se&keywords=jacket&qid=1731767152&sr=8-5\n",
      "Reviews:\n",
      "  Reviewer: Al Zlot\n",
      "  Content: Really a fantastic jacket for the price. It’s important to note that the material, though soft, warm, comfortable, and just nice to touch is synthetic, and as with pretty much all half/full synthetic Sherpa-type materials, any kind of moisture on your skin makes the fuzz clump if you stroke it against the grain. Basically, you just shouldn’t wear it if you’re in the kind of weather where you’re taking it off and putting it on every few minutes, because that is just too warm for this jacket. The sleeves are a bit long, but not so much that those with fairly regular length-width proportions will notice too much, but enough that taller wearers aren’t plagued by cold wrists like with everything else. The cut is also a bit wider at the midriff, so those wider between the chest and belt will feel just as comfortable in this jacket as slimmer people will in a slimmer cut, but it’s not so wide that slimmer people cant wear it. I’m somewhere in between, and I enjoy having a bit of room to move the jacket around without it being excessively baggy. It’s very warm, and the ivy/chart color is nice, but more that the jacket is a tad lighter than the photo, most likely a lighting or iso issue in photoshoot.\n",
      "If you need something that’s really warm and/or tighter fitting so it functions as an actually good under layer for a slimmer person, check out one of Columbia’s other under layers, which are also pretty decent quality and very well priced. If you’re going for just a fleece or a fleece to wear under just a thin down jacket, you’re in the right place.\n",
      "5/5 would buy again but I won’t have to because Columbia’s products last decades and winters on earth will be in the 30s °C by then\n",
      "  Date: Reviewed in the United States on November 22, 2019\n",
      "----------------------------------------\n",
      "  Reviewer: LPLoveland\n",
      "  Content: Bought 2 for my guy in large. They are soft and fit him well. Fabric is beautiful and jacket is well made. The red is muted not bright and he loves both the red and grey.\n",
      "  Date: Reviewed in the United States on February 7, 2024\n",
      "----------------------------------------\n",
      "  Reviewer: linda harmon\n",
      "  Content: Purchased this for my son. He loves it. Soft and comfortable. Keeps him warm. He’s 6 foot so got the long one. Fit perfectly.\n",
      "  Date: Reviewed in the United States on June 6, 2024\n",
      "----------------------------------------\n",
      "  Reviewer: DGBeetle\n",
      "  Content: Warm, fits and looks good.\n",
      "  Date: Reviewed in the United States on April 24, 2024\n",
      "----------------------------------------\n",
      "  Reviewer: Bobby\n",
      "  Content: Nice comfortable fleece. Good pockets and zipper. Great color. Quality made.\n",
      "  Date: Reviewed in the United States on October 22, 2024\n",
      "----------------------------------------\n",
      "  Reviewer: C. KANDRUT\n",
      "  Content: This fleece is very soft and comfy!\n",
      "Very warm!\n",
      "I ordered an XL tall because I have long arms..\n",
      "Fits me great!\n",
      "The price is inexpensive compared to Orvis!\n",
      "Will buy another!\n",
      "  Date: Reviewed in the United States on January 23, 2024\n",
      "----------------------------------------\n",
      "  Reviewer: KISS_s9999v99\n",
      "  Content: 11-05-2014 -- $39.95\n",
      "\n",
      "if YOU WEAR a 3 X or a 4 X ->>> BUY THE 5 X. It's a beautiful jacket. No idea how it will hold up but it appears to be very well made.\n",
      "\n",
      "I have no idea how this jacket will compare to the Columbia jacket that looks just like and is priced exactly the same. There are only size 5X jackets left from this review I am doing.\n",
      "\n",
      "My son is 5' 10\" and the jacket is as long as his polo shirts which he does not tuck into his pants.\n",
      "\n",
      "Lucky for me I read the reviews and ordered two jackets, sizes 5X and 6X. My son actually fits in some 4X knit polo type shirts I purchased for him at Belk.com. The 6X is big enough to fit a sweatshirt under it.\n",
      "\n",
      "This jacket will be washed on gentle and will not be put in a clothes dryer on the chance it MIGHT shrink. BUT, THAT'S HOW WE WASH SOME CLOTHING. We have our clothes forever. Watch our money.\n",
      "\n",
      "It's extremely easy to return, I THINK. UPS is supposed to pick it up today. One of us is usually always home. I guess it can be dropped off at UPS but the instructions say UPS PICKUP.\n",
      "\n",
      "Jacket description below:\n",
      "Columbia Men's Big-Tall Extended Big Steens Mountain Full Zip 2.0 Fleece Jacket\n",
      "\n",
      "•100% Polyester\n",
      "•Imported\n",
      "•Machine Wash\n",
      "•Zip-closed security pocket\n",
      "•Imported\n",
      "  Date: Reviewed in the United States on November 5, 2014\n",
      "----------------------------------------\n",
      "  Reviewer: Scott Pooler\n",
      "  Content: I was given one of these Columbia Fleece Jackets several years ago at a convention/company retreat. I fell in love with Fleece when I got that first jacket and even though I live in Florida and only can use such a garment for a short time each year while at home, that fleece was one of my very favorites to wear.\n",
      "\n",
      "My daughter apparently felt the same... and appropriated my favorite fleece at some point. Kids being kids, my favorite old man snuggle jacket somehow disappeared and the daughter has claimed she knows not a thing about it. Dad's being Dad's, I seemed to be content with needling her about it every year when the weather gets a little nippy.\n",
      "\n",
      "Well, this purchase has ended that point of contention and now I can pull out the familiar old (now new) fleece Columbia Jacket whenever it gets below 60 degrees here in Florida and my daughter can live without being reminded about how she misplaced her old mans favorite garment.\n",
      "\n",
      "- Fits like a dream, feels so good, warm and fluffy and comfy.... (Yes, men do think this way).\n",
      "\n",
      "This would be a perfect gift for ANY DAD - believe me, once he has one, he will miss it when it goes off into daughterland somewhere...\n",
      "  Date: Reviewed in the United States on December 13, 2017\n",
      "----------------------------------------\n",
      "  Reviewer: jaime\n",
      "  Content: Abriga bien\n",
      "  Date: Reviewed in Mexico on December 7, 2021\n",
      "----------------------------------------\n",
      "  Reviewer: Jose\n",
      "  Content: Es muy suave h muy caliente\n",
      "  Date: Reviewed in Mexico on November 14, 2021\n",
      "----------------------------------------\n",
      "  Reviewer: Np\n",
      "  Content: Buena calidad y muy calientita para días frios\n",
      "  Date: Reviewed in Mexico on October 7, 2021\n",
      "----------------------------------------\n",
      "  Reviewer: noc\n",
      "  Content: For now, it keeps me warm, hopefully, it will be the same in winter\n",
      "  Date: Reviewed in the United Kingdom on August 28, 2024\n",
      "----------------------------------------\n",
      "  Reviewer: Jose\n",
      "  Content: Comodísima y muy suave y calientita\n",
      "  Date: Reviewed in Mexico on August 10, 2021\n",
      "----------------------------------------\n",
      "================================================================================\n"
     ]
    }
   ],
   "source": [
    "from selenium import webdriver\n",
    "from selenium.webdriver.common.by import By\n",
    "from selenium.webdriver.common.keys import Keys\n",
    "import time\n",
    "\n",
    "browser = webdriver.Chrome()\n",
    "\n",
    "def search_amazon(product_name):\n",
    "    # Open Amazon homepage\n",
    "    browser.get(\"https://www.amazon.com\")\n",
    "    browser.implicitly_wait(5)\n",
    "\n",
    "    # Enter the product name in the search bar\n",
    "    search_box = browser.find_element(By.ID, \"twotabsearchtextbox\")\n",
    "    search_box.send_keys(product_name)\n",
    "    search_box.send_keys(Keys.RETURN)\n",
    "    # Wait for the search results to load\n",
    "    time.sleep(3)\n",
    "\n",
    "def get_product_links():\n",
    "    # Wait for search results to load\n",
    "    time.sleep(3)\n",
    "\n",
    "    # Find product title containers\n",
    "    product_elements = browser.find_elements(By.CSS_SELECTOR, 'h2.a-size-mini.a-spacing-none.a-color-base.s-line-clamp-4')\n",
    "    product_links = []\n",
    "\n",
    "    # Extract product names and links\n",
    "    for product in product_elements:\n",
    "        try:\n",
    "            # Find the link within the title container\n",
    "            link_element = product.find_element(By.CSS_SELECTOR, 'a.a-link-normal')\n",
    "            link = link_element.get_attribute('href')\n",
    "            name = link_element.find_element(By.TAG_NAME, 'span').text.strip()\n",
    "            if link and name:\n",
    "                product_links.append({\"Name\": name, \"Link\": link})\n",
    "        except Exception as e:\n",
    "            print(f\"Error extracting product link: {e}\")\n",
    "            continue\n",
    "\n",
    "    return product_links\n",
    "\n",
    "\n",
    "\n",
    "def scrape_reviews(product_url):\n",
    "    # Open the product page\n",
    "    browser.get(product_url)\n",
    "    time.sleep(3)\n",
    "\n",
    "    # Scroll to load reviews\n",
    "    browser.execute_script(\"window.scrollBy(0, 1500);\")\n",
    "    time.sleep(2)\n",
    "    browser.execute_script(\"window.scrollBy(1500, 3000);\")\n",
    "    time.sleep(2)\n",
    "\n",
    "    # Find all review elements\n",
    "    reviews = browser.find_elements(By.CLASS_NAME, 'review')\n",
    "    reviews_data = []\n",
    "\n",
    "    for review in reviews:\n",
    "        try:\n",
    "            # Extract reviewer's info\n",
    "            name = review.find_element(By.CLASS_NAME, 'a-profile-name').text.strip() if review.find_elements(By.CLASS_NAME, 'a-profile-name') else 'No Name'\n",
    "            \n",
    "            content = review.find_element(By.CLASS_NAME, 'a-expander-content').text.strip() if review.find_elements(By.CLASS_NAME, 'a-expander-content') else 'No Content'\n",
    "            \n",
    "            date = review.find_element(By.CLASS_NAME, 'review-date').text.strip() if review.find_elements(By.CLASS_NAME, 'review-date') else 'No Date'\n",
    "\n",
    "            # Append review data\n",
    "            reviews_data.append({\n",
    "                'Reviewer': name,\n",
    "                'Content': content,\n",
    "                'Date': date\n",
    "            })\n",
    "        except:\n",
    "            continue\n",
    "\n",
    "    return reviews_data\n",
    "\n",
    "product_name = input(\"Enter the product name to search: \")\n",
    "\n",
    "# Search for the product\n",
    "search_amazon(product_name)\n",
    "\n",
    "# Get product links and names\n",
    "product_links = get_product_links()\n",
    "# Store all products and their reviews\n",
    "all_data = []\n",
    "\n",
    "# Iterate through each product and scrape reviews\n",
    "# * Limit to 5 products for demonstration\n",
    "for product in product_links[:5]:\n",
    "    print(f\"Scraping reviews for: {product['Name']}\")\n",
    "    reviews = scrape_reviews(product['Link'])\n",
    "    all_data.append({\n",
    "        \"Name\": product['Name'],\n",
    "        \"Link\": product['Link'],\n",
    "        \"Reviews\": reviews\n",
    "    })\n",
    "\n",
    "# Print or save the data\n",
    "for product in all_data:\n",
    "    print(f\"Product: {product['Name']}\")\n",
    "    print(f\"Link: {product['Link']}\")\n",
    "    print(\"Reviews:\")\n",
    "    for review in product['Reviews']:\n",
    "        print(f\"  Reviewer: {review['Reviewer']}\")\n",
    "        print(f\"  Content: {review['Content']}\")\n",
    "        print(f\"  Date: {review['Date']}\")\n",
    "        print(\"-\" * 40)\n",
    "    print(\"=\" * 80)\n",
    "\n",
    "# Close the browser\n",
    "browser.quit()\n"
   ]
  },
  {
   "cell_type": "markdown",
   "id": "b58965b5",
   "metadata": {},
   "source": [
    "# Product Review Sentiment Analysis\n",
    "### This script loads a pre-trained sentiment classification model, analyzes product reviews to classify sentiments (e.g., Positive, Negative, Neutral), and identifies the best product based on the ratio of positive reviews. The results are structured for easy comparison and analysis.\n",
    "\n",
    "## Output\n",
    "### The script provides a list of analyzed products with their respective sentiment distributions, showing how satisfied users are with each product.\n",
    "### At the end, the script highlights the most relevant product based on user reviews, including its name, link, and overall satisfaction ratio."
   ]
  },
  {
   "cell_type": "code",
   "execution_count": null,
   "id": "65af0d5b",
   "metadata": {},
   "outputs": [],
   "source": [
    "# Preparing Functions and Data for Predictions  \n",
    "# Reinitializing necessary functions and data for predictions to avoid rerunning the entire training process.\n",
    "import re\n",
    "import pandas as pd\n",
    "import tensorflow as tf\n",
    "from nltk.corpus import stopwords\n",
    "from nltk.stem import WordNetLemmatizer\n",
    "\n",
    "REPLACE_BY_SPACE_RE = re.compile(r'[/(){}\\[\\]\\|@,;]')\n",
    "BAD_SYMBOLS_RE = re.compile(r'[^0-9a-z #+_]')\n",
    "NUMBERS_RE = re.compile(r'\\d+')\n",
    "\n",
    "STOPWORDS = set(stopwords.words('english'))\n",
    "lemmatizer = WordNetLemmatizer()\n",
    "\n",
    "def preprocess_text(input_text):\n",
    "    input_text = tf.strings.lower(input_text)\n",
    "    input_text = tf.strings.regex_replace(input_text, r'http\\S+', '')\n",
    "    input_text = tf.strings.regex_replace(input_text, r'[@#][A-Za-z0-9_]+', ' ')\n",
    "    input_text = tf.strings.regex_replace(input_text, REPLACE_BY_SPACE_RE.pattern, ' ')\n",
    "    input_text = tf.strings.regex_replace(input_text, BAD_SYMBOLS_RE.pattern, '')\n",
    "    input_text = tf.strings.regex_replace(input_text, NUMBERS_RE.pattern, '')\n",
    "    return input_text\n",
    "\n",
    "df = pd.read_csv(\n",
    "    'tweet_emotions.csv',\n",
    "    usecols=['content', 'sentiment'],\n",
    "    dtype={'content': 'string', 'sentiment': 'category'}\n",
    ")\n",
    "df.rename(columns={'content': 'sentence', 'sentiment': 'label'}, inplace=True)\n",
    "df = df[(df['label'] == 'sadness') | (df['label'] == 'happiness')]\n",
    "df['label'] = df['label'].cat.remove_unused_categories()\n",
    "label_names = df['label'].cat.categories.tolist()"
   ]
  },
  {
   "cell_type": "code",
   "execution_count": 13,
   "id": "6c2b981e",
   "metadata": {},
   "outputs": [
    {
     "name": "stdout",
     "output_type": "stream",
     "text": [
      "\u001b[1m1/1\u001b[0m \u001b[32m━━━━━━━━━━━━━━━━━━━━\u001b[0m\u001b[37m\u001b[0m \u001b[1m0s\u001b[0m 126ms/step\n",
      "\u001b[1m1/1\u001b[0m \u001b[32m━━━━━━━━━━━━━━━━━━━━\u001b[0m\u001b[37m\u001b[0m \u001b[1m0s\u001b[0m 21ms/step\n",
      "\u001b[1m1/1\u001b[0m \u001b[32m━━━━━━━━━━━━━━━━━━━━\u001b[0m\u001b[37m\u001b[0m \u001b[1m0s\u001b[0m 124ms/step\n",
      "\u001b[1m1/1\u001b[0m \u001b[32m━━━━━━━━━━━━━━━━━━━━\u001b[0m\u001b[37m\u001b[0m \u001b[1m0s\u001b[0m 20ms/step\n",
      "\u001b[1m1/1\u001b[0m \u001b[32m━━━━━━━━━━━━━━━━━━━━\u001b[0m\u001b[37m\u001b[0m \u001b[1m0s\u001b[0m 20ms/step\n",
      "Overall results:\n",
      "Product: Fruit of the Loom Men's Eversoft Fleece Hoodies, Moisture Wicking & Breathable, Full Zip Hooded Sweatshirt\n",
      "Link: https://www.amazon.com/Fruit-Loom-Eversoft-Sweatshirts-Zip-Black/dp/B08YH1VZKF/ref=sr_1_1?dib=eyJ2IjoiMSJ9.XZLZsRTq17v4b8m_VlzWfYzbLoboQ302EktIKICG0SNf_NIs-Wr7CwY2pPLXy2_ZwWdaHgIidEJyrFGTt1CZTh85D9kRXmhyx7q1Qixboj9BO3hrRCD2SH-bdgZxUC83GC3ZaJ3SD48VuwV1sAJZmASbG3hmczrd5Dz4d_l22p1QFz8Ffto-BHkd6E85Z2G0er69HQ92RfPTsrvpppSwQ6QvKndnVMuNm5eSk4ypewBbqXPPHmQ3WDdSvpg2sWUGMtyo-nUJcODniE7aqVwM3-LvQYaZiL19jcWPBBoQ958.qX6HLr2s4bb_bRyLwc9WnWUHa63rNVndpnOcf8t9EoM&dib_tag=se&keywords=jacket&qid=1731767152&sr=8-1\n",
      "Sentiment Ratio: {'happiness': 0.9230769230769231, 'sadness': 0.07692307692307693}\n",
      "================================================================================\n",
      "Product: EKLENTSON Men's Winter Jacket Thick Thermal Cotton Warm Fleece Lined Coat Trucker Lapel Work Cargo Jackets for Men\n",
      "Link: https://www.amazon.com/EKLENTSON-Winter-Jackets-Cotton-Pockets/dp/B09L4HHVQ5/ref=sr_1_2?dib=eyJ2IjoiMSJ9.XZLZsRTq17v4b8m_VlzWfYzbLoboQ302EktIKICG0SNf_NIs-Wr7CwY2pPLXy2_ZwWdaHgIidEJyrFGTt1CZTh85D9kRXmhyx7q1Qixboj9BO3hrRCD2SH-bdgZxUC83GC3ZaJ3SD48VuwV1sAJZmASbG3hmczrd5Dz4d_l22p1QFz8Ffto-BHkd6E85Z2G0er69HQ92RfPTsrvpppSwQ6QvKndnVMuNm5eSk4ypewBbqXPPHmQ3WDdSvpg2sWUGMtyo-nUJcODniE7aqVwM3-LvQYaZiL19jcWPBBoQ958.qX6HLr2s4bb_bRyLwc9WnWUHa63rNVndpnOcf8t9EoM&dib_tag=se&keywords=jacket&qid=1731767152&sr=8-2\n",
      "Sentiment Ratio: {'happiness': 0.7692307692307693, 'sadness': 0.23076923076923078}\n",
      "================================================================================\n",
      "Product: Hanes Men's Zip-Up Hoodie, EcoSmart Fleece Full-Zip Hoodie for Men, Hooded Sweatshirt\n",
      "Link: https://www.amazon.com/Hanes-EcoSmart-Fleece-Hoodie-X-Large/dp/B00JUM4NY8/ref=sr_1_3?dib=eyJ2IjoiMSJ9.XZLZsRTq17v4b8m_VlzWfYzbLoboQ302EktIKICG0SNf_NIs-Wr7CwY2pPLXy2_ZwWdaHgIidEJyrFGTt1CZTh85D9kRXmhyx7q1Qixboj9BO3hrRCD2SH-bdgZxUC83GC3ZaJ3SD48VuwV1sAJZmASbG3hmczrd5Dz4d_l22p1QFz8Ffto-BHkd6E85Z2G0er69HQ92RfPTsrvpppSwQ6QvKndnVMuNm5eSk4ypewBbqXPPHmQ3WDdSvpg2sWUGMtyo-nUJcODniE7aqVwM3-LvQYaZiL19jcWPBBoQ958.qX6HLr2s4bb_bRyLwc9WnWUHa63rNVndpnOcf8t9EoM&dib_tag=se&keywords=jacket&qid=1731767152&sr=8-3\n",
      "Sentiment Ratio: {'happiness': 0.6363636363636364, 'sadness': 0.36363636363636365}\n",
      "================================================================================\n",
      "Product: Yeokou Women's Casual Full Zip Up Sherpa Lined Hoodie Sweatshirt Jacket Coat\n",
      "Link: https://www.amazon.com/Yeokou-Womens-Casual-Sherpa-Sweatshirt/dp/B07FB8XP7T/ref=sr_1_4?dib=eyJ2IjoiMSJ9.XZLZsRTq17v4b8m_VlzWfYzbLoboQ302EktIKICG0SNf_NIs-Wr7CwY2pPLXy2_ZwWdaHgIidEJyrFGTt1CZTh85D9kRXmhyx7q1Qixboj9BO3hrRCD2SH-bdgZxUC83GC3ZaJ3SD48VuwV1sAJZmASbG3hmczrd5Dz4d_l22p1QFz8Ffto-BHkd6E85Z2G0er69HQ92RfPTsrvpppSwQ6QvKndnVMuNm5eSk4ypewBbqXPPHmQ3WDdSvpg2sWUGMtyo-nUJcODniE7aqVwM3-LvQYaZiL19jcWPBBoQ958.qX6HLr2s4bb_bRyLwc9WnWUHa63rNVndpnOcf8t9EoM&dib_tag=se&keywords=jacket&qid=1731767152&sr=8-4\n",
      "Sentiment Ratio: {'happiness': 0.7692307692307693, 'sadness': 0.23076923076923078}\n",
      "================================================================================\n",
      "Product: Columbia Steens Mountain 2.0 Full Zip Fleece Jacket\n",
      "Link: https://www.amazon.com/Columbia-Steens-Mountain-Fleece-Classic/dp/B0076R6L58/ref=sr_1_5?dib=eyJ2IjoiMSJ9.XZLZsRTq17v4b8m_VlzWfYzbLoboQ302EktIKICG0SNf_NIs-Wr7CwY2pPLXy2_ZwWdaHgIidEJyrFGTt1CZTh85D9kRXmhyx7q1Qixboj9BO3hrRCD2SH-bdgZxUC83GC3ZaJ3SD48VuwV1sAJZmASbG3hmczrd5Dz4d_l22p1QFz8Ffto-BHkd6E85Z2G0er69HQ92RfPTsrvpppSwQ6QvKndnVMuNm5eSk4ypewBbqXPPHmQ3WDdSvpg2sWUGMtyo-nUJcODniE7aqVwM3-LvQYaZiL19jcWPBBoQ958.qX6HLr2s4bb_bRyLwc9WnWUHa63rNVndpnOcf8t9EoM&dib_tag=se&keywords=jacket&qid=1731767152&sr=8-5\n",
      "Sentiment Ratio: {'happiness': 0.5384615384615384, 'sadness': 0.46153846153846156}\n",
      "================================================================================\n",
      "Best Product:\n",
      "Name: Fruit of the Loom Men's Eversoft Fleece Hoodies, Moisture Wicking & Breathable, Full Zip Hooded Sweatshirt\n",
      "Link: https://www.amazon.com/Fruit-Loom-Eversoft-Sweatshirts-Zip-Black/dp/B08YH1VZKF/ref=sr_1_1?dib=eyJ2IjoiMSJ9.XZLZsRTq17v4b8m_VlzWfYzbLoboQ302EktIKICG0SNf_NIs-Wr7CwY2pPLXy2_ZwWdaHgIidEJyrFGTt1CZTh85D9kRXmhyx7q1Qixboj9BO3hrRCD2SH-bdgZxUC83GC3ZaJ3SD48VuwV1sAJZmASbG3hmczrd5Dz4d_l22p1QFz8Ffto-BHkd6E85Z2G0er69HQ92RfPTsrvpppSwQ6QvKndnVMuNm5eSk4ypewBbqXPPHmQ3WDdSvpg2sWUGMtyo-nUJcODniE7aqVwM3-LvQYaZiL19jcWPBBoQ958.qX6HLr2s4bb_bRyLwc9WnWUHa63rNVndpnOcf8t9EoM&dib_tag=se&keywords=jacket&qid=1731767152&sr=8-1\n",
      "Overall Satisfaction: {'happiness': 0.9230769230769231, 'sadness': 0.07692307692307693}\n"
     ]
    }
   ],
   "source": [
    "from tensorflow.keras.models import load_model\n",
    "import pandas as pd\n",
    "\n",
    "def classify_reviews(all_data, classification_model, label_names):\n",
    "    for product in all_data:\n",
    "        # Convert review contents to a Pandas Series\n",
    "        text_series = pd.Series([review['Content'] for review in product['Reviews']])\n",
    "\n",
    "        # Run each review content through the classification model and get sentiment predictions\n",
    "        # Get class with highest probability\n",
    "        predictions = classification_model.predict(text_series).argmax(axis=1)\n",
    "        # Map numerical predictions to label names\n",
    "        predicted_labels = [label_names[pred] for pred in predictions]\n",
    "\n",
    "        # Store sentiment predictions back into the reviews\n",
    "        for i, review in enumerate(product['Reviews']):\n",
    "            review['Sentiment'] = predicted_labels[i]\n",
    "\n",
    "        # Add sentiment summary to the product\n",
    "        sentiment_summary = pd.Series(predicted_labels).value_counts(normalize=True).to_dict()\n",
    "        # Store overall sentiment distribution\n",
    "        product['SentimentSummary'] = sentiment_summary\n",
    "\n",
    "def find_best_product(all_data):\n",
    "    best_product = None\n",
    "    highest_positive_ratio = -1\n",
    "\n",
    "    for product in all_data:\n",
    "        sentiment_summary = product.get('SentimentSummary', {})\n",
    "        positive_ratio = sentiment_summary.get('Positive', 0)  # Assuming 'Positive' is a sentiment label\n",
    "\n",
    "        if positive_ratio > highest_positive_ratio:\n",
    "            highest_positive_ratio = positive_ratio\n",
    "            best_product = product\n",
    "\n",
    "    return best_product\n",
    "\n",
    "# Load the classification model from the file\n",
    "classification_model = load_model(\n",
    "    'sentiment-for-nova.keras',\n",
    "    custom_objects={\"preprocess_text\": preprocess_text}\n",
    ")\n",
    "\n",
    "# Classify reviews for each product\n",
    "classify_reviews(all_data, classification_model, label_names)\n",
    "\n",
    "# Find the best product\n",
    "best_product = find_best_product(all_data)\n",
    "\n",
    "# Display results\n",
    "print(\"Overall results:\")\n",
    "for product in all_data:\n",
    "    print(f\"Product: {product['Name']}\")\n",
    "    print(f\"Link: {product['Link']}\")\n",
    "    print(f\"Sentiment Ratio: {product['SentimentSummary']}\")\n",
    "    print(\"=\" * 80)\n",
    "\n",
    "if best_product:\n",
    "    print(\"Best Product:\")\n",
    "    print(f\"Name: {best_product['Name']}\")\n",
    "    print(f\"Link: {best_product['Link']}\")\n",
    "    print(f\"Overall Satisfaction: {best_product['SentimentSummary']}\")\n"
   ]
  },
  {
   "cell_type": "markdown",
   "id": "1879881f",
   "metadata": {},
   "source": [
    "### The Best Product  \n",
    "\n",
    "After analyzing all the reviews, we have identified the **top product** based on user satisfaction and positive feedback:  \n",
    "\n",
    "**Best Product:**  \n",
    "- **Name:** Fruit of the Loom Men's Eversoft Fleece Hoodies, Moisture Wicking & Breathable, Full Zip Hooded Sweatshirt  \n",
    "- **Link:** [View Product on Amazon](https://www.amazon.com/Fruit-Loom-Eversoft-Sweatshirts-Zip-Black/dp/B08YH1VZKF/ref=sr_1_1?dib=eyJ2IjoiMSJ9.XZLZsRTq17v4b8m_VlzWfYzbLoboQ302EktIKICG0SNf_NIs-Wr7CwY2pPLXy2_ZwWdaHgIidEJyrFGTt1CZTh85D9kRXmhyx7q1Qixboj9BO3hrRCD2SH-bdgZxUC83GC3ZaJ3SD48VuwV1sAJZmASbG3hmczrd5Dz4d_l22p1QFz8Ffto-BHkd6E85Z2G0er69HQ92RfPTsrvpppSwQ6QvKndnVMuNm5eSk4ypewBbqXPPHmQ3WDdSvpg2sWUGMtyo-nUJcODniE7aqVwM3-LvQYaZiL19jcWPBBoQ958.qX6HLr2s4bb_bRyLwc9WnWUHa63rNVndpnOcf8t9EoM&dib_tag=se&keywords=jacket&qid=1731767152&sr=8-1)  \n",
    "\n",
    "**Overall Satisfaction:**  \n",
    "- **Happiness:** 92.31%  \n",
    "- **Sadness:** 7.69%  \n",
    "\n",
    "This product stands out with overwhelmingly positive reviews and a high happiness ratio among users, making it the most recommended choice based on customer feedback."
   ]
  }
 ],
 "metadata": {
  "kaggle": {
   "accelerator": "gpu",
   "dataSources": [
    {
     "datasetId": 1116138,
     "sourceId": 1874890,
     "sourceType": "datasetVersion"
    }
   ],
   "dockerImageVersionId": 30664,
   "isGpuEnabled": true,
   "isInternetEnabled": true,
   "language": "python",
   "sourceType": "notebook"
  },
  "kernelspec": {
   "display_name": "Python 3",
   "language": "python",
   "name": "python3"
  },
  "language_info": {
   "codemirror_mode": {
    "name": "ipython",
    "version": 3
   },
   "file_extension": ".py",
   "mimetype": "text/x-python",
   "name": "python",
   "nbconvert_exporter": "python",
   "pygments_lexer": "ipython3",
   "version": "3.12.5"
  },
  "papermill": {
   "default_parameters": {},
   "duration": 33.126516,
   "end_time": "2024-03-01T10:52:43.561208",
   "environment_variables": {},
   "exception": null,
   "input_path": "__notebook__.ipynb",
   "output_path": "__notebook__.ipynb",
   "parameters": {},
   "start_time": "2024-03-01T10:52:10.434692",
   "version": "2.5.0"
  }
 },
 "nbformat": 4,
 "nbformat_minor": 5
}
